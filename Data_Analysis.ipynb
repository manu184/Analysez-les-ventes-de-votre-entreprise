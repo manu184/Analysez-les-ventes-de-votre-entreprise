{
 "cells": [
  {
   "cell_type": "markdown",
   "metadata": {},
   "source": [
    "#                        Projet-4 (Analysez les ventes de votre entreprise)"
   ]
  },
  {
   "cell_type": "markdown",
   "metadata": {},
   "source": [
    "# Sommaire"
   ]
  },
  {
   "cell_type": "markdown",
   "metadata": {},
   "source": [
    "# Mission 1: Nettoyage des données\n",
    "1. Customer\n",
    "2. Products\n",
    "3. Transactions"
   ]
  },
  {
   "cell_type": "markdown",
   "metadata": {},
   "source": [
    "# Mission 2 : Analyse des données\n",
    "1. des indicateurs de tendance centrale et de dispersion ;\n",
    "\n",
    "2. une analyse de concentration, via une courbe de Lorenz et un indice de Gini ;\n",
    "\n",
    "3. des représentations graphiques, dont au moins un histogramme, une représentation avec des \"boîtes à moustaches\" ;\n",
    "\n",
    "4.  une représentation de série temporelle (c’est-à-dire un graphique dont l’axe des abscisses représente des dates) ;\n",
    "\n",
    "4. des analyses bivariées."
   ]
  },
  {
   "cell_type": "markdown",
   "metadata": {},
   "source": [
    "# Mission 3: Étude des Corrélations\n",
    "1. corrélation entre le sexe des clients et les catégories de produits achetés \n",
    "\n",
    "2. une corrélation entre l'âge des clients et le montant total des achats ;\n",
    "\n",
    "3. une corrélation entre l'âge des clients et la fréquence d’achat (ie. nombre d'achats par mois par exemple) ;\n",
    "\n",
    "4. une corrélation entre l'âge des clients et la taille du panier moyen (en nombre d’articles) ;\n",
    "\n",
    "5. une corrélation entre l'âge des clients et les catégories de produits achetés."
   ]
  },
  {
   "cell_type": "code",
   "execution_count": 1,
   "metadata": {},
   "outputs": [],
   "source": [
    "import pandas as pd ; \n",
    "import numpy as np ; \n",
    "import seaborn as sns ; \n",
    "import datetime as dt ; \n",
    "import matplotlib.pyplot as plt\n",
    "%matplotlib inline\n",
    "from matplotlib.pylab import arange, plot \n",
    "from matplotlib.pyplot import figure\n",
    "import scipy.stats as st \n",
    "import statsmodels.api as sm \n",
    "import statsmodels.formula.api as smf\n",
    "import warnings ; warnings.filterwarnings('ignore')"
   ]
  },
  {
   "cell_type": "markdown",
   "metadata": {},
   "source": [
    "# Import all data files.csv"
   ]
  },
  {
   "cell_type": "code",
   "execution_count": 20,
   "metadata": {},
   "outputs": [],
   "source": [
    "ventes_1=pd.read_csv(\"ventes_1.csv\")\n",
    "df_transactions=pd.read_csv(\"transactions.csv\",parse_dates=[1])\n",
    "df_customers=pd.read_csv(\"customers.csv\", dtype={'sex': 'category'})\n",
    "df_produits=pd.read_csv(\"products.csv\", dtype={'categ': 'category'})"
   ]
  },
  {
   "attachments": {},
   "cell_type": "markdown",
   "metadata": {},
   "source": [
    "# Mission n° 2:  Analyse des données\n"
   ]
  },
  {
   "cell_type": "markdown",
   "metadata": {},
   "source": [
    "Effectuez d'abord l'agrégation par mois"
   ]
  },
  {
   "cell_type": "code",
   "execution_count": 4,
   "metadata": {},
   "outputs": [],
   "source": [
    "# Lists for our aggregations:\n",
    "CALENDAR=[\"janvier\", \"fevrier\", \"mars\", \"avril\", \"mai\", \"juin\", \n",
    "          \"juillet\", \"août\", \"septembre\", \"octobre\", \"novembre\", \"decembre\"]\n",
    "CHRONOLOGIE=[22.01, 22.02, 21.03, 21.04, 21.05, 21.06, 21.07, 21.08, 21.09, 21.10, 21.11, 21.12]\n",
    "\n",
    "# To change, for example, from \"July\" to 7:\n",
    "def nombre_mois(car):\n",
    "    return(CALENDAR.index(car)+1)\n",
    "\n",
    "# To change, for example, from 4 to \"April\":          \n",
    "def nom_mois(n):\n",
    "    return(CALENDAR[n-1])\n",
    "    \n",
    "# To move, for example, from \"April\" to \"21.04\" or from \"January\" to \"22.01\":\n",
    "def chronologie(car):\n",
    "    return(CHRONOLOGIE[nombre_mois(car)-1])"
   ]
  },
  {
   "cell_type": "markdown",
   "metadata": {},
   "source": [
    "# Variables supplémentaires\n",
    "Notez qu'une \"session\" est un groupe d'achats. Il serait donc intéressant de savoir combien de livres ont été achetés dans chaque session. Nous créons donc la variable \"basket_size\" qui nous donnera cette indication."
   ]
  },
  {
   "cell_type": "code",
   "execution_count": 5,
   "metadata": {},
   "outputs": [
    {
     "data": {
      "text/html": [
       "<div>\n",
       "<style scoped>\n",
       "    .dataframe tbody tr th:only-of-type {\n",
       "        vertical-align: middle;\n",
       "    }\n",
       "\n",
       "    .dataframe tbody tr th {\n",
       "        vertical-align: top;\n",
       "    }\n",
       "\n",
       "    .dataframe thead th {\n",
       "        text-align: right;\n",
       "    }\n",
       "</style>\n",
       "<table border=\"1\" class=\"dataframe\">\n",
       "  <thead>\n",
       "    <tr style=\"text-align: right;\">\n",
       "      <th></th>\n",
       "      <th>Unnamed: 0</th>\n",
       "      <th>id_prod</th>\n",
       "      <th>session_id</th>\n",
       "      <th>client_id</th>\n",
       "      <th>date</th>\n",
       "      <th>heure</th>\n",
       "      <th>price</th>\n",
       "      <th>categ</th>\n",
       "      <th>sex</th>\n",
       "      <th>birth</th>\n",
       "      <th>age</th>\n",
       "      <th>basket_size</th>\n",
       "    </tr>\n",
       "  </thead>\n",
       "  <tbody>\n",
       "    <tr>\n",
       "      <td>0</td>\n",
       "      <td>0</td>\n",
       "      <td>0_1483</td>\n",
       "      <td>s_18746</td>\n",
       "      <td>c_4450</td>\n",
       "      <td>2021-04-10</td>\n",
       "      <td>00:00:00</td>\n",
       "      <td>4.99</td>\n",
       "      <td>0</td>\n",
       "      <td>f</td>\n",
       "      <td>1977</td>\n",
       "      <td>44</td>\n",
       "      <td>3</td>\n",
       "    </tr>\n",
       "    <tr>\n",
       "      <td>1</td>\n",
       "      <td>1</td>\n",
       "      <td>2_226</td>\n",
       "      <td>s_159142</td>\n",
       "      <td>c_277</td>\n",
       "      <td>2022-02-03</td>\n",
       "      <td>00:00:00</td>\n",
       "      <td>65.75</td>\n",
       "      <td>2</td>\n",
       "      <td>f</td>\n",
       "      <td>2000</td>\n",
       "      <td>21</td>\n",
       "      <td>2</td>\n",
       "    </tr>\n",
       "    <tr>\n",
       "      <td>2</td>\n",
       "      <td>2</td>\n",
       "      <td>1_374</td>\n",
       "      <td>s_94290</td>\n",
       "      <td>c_4270</td>\n",
       "      <td>2021-09-23</td>\n",
       "      <td>00:00:00</td>\n",
       "      <td>10.71</td>\n",
       "      <td>1</td>\n",
       "      <td>f</td>\n",
       "      <td>1979</td>\n",
       "      <td>42</td>\n",
       "      <td>9</td>\n",
       "    </tr>\n",
       "  </tbody>\n",
       "</table>\n",
       "</div>"
      ],
      "text/plain": [
       "   Unnamed: 0 id_prod session_id client_id        date     heure  price  \\\n",
       "0           0  0_1483    s_18746    c_4450  2021-04-10  00:00:00   4.99   \n",
       "1           1   2_226   s_159142     c_277  2022-02-03  00:00:00  65.75   \n",
       "2           2   1_374    s_94290    c_4270  2021-09-23  00:00:00  10.71   \n",
       "\n",
       "   categ sex  birth  age  basket_size  \n",
       "0      0   f   1977   44            3  \n",
       "1      2   f   2000   21            2  \n",
       "2      1   f   1979   42            9  "
      ]
     },
     "execution_count": 5,
     "metadata": {},
     "output_type": "execute_result"
    }
   ],
   "source": [
    "ventes_1[\"basket_size\"]=ventes_1[\"session_id\"].value_counts()[ventes_1[\"session_id\"]].tolist()\n",
    "ventes_1.head(3)"
   ]
  },
  {
   "cell_type": "code",
   "execution_count": 6,
   "metadata": {},
   "outputs": [],
   "source": [
    "# The date is converted back to datetime:\n",
    "ventes_1[\"date\"]=pd.to_datetime(ventes_1[\"date\"])"
   ]
  },
  {
   "cell_type": "code",
   "execution_count": 7,
   "metadata": {},
   "outputs": [],
   "source": [
    "# We add the column \"month\" to our functions:\n",
    "ventes_1[\"mois\"]=ventes_1[\"date\"].dt.month.apply(nom_mois)"
   ]
  },
  {
   "cell_type": "code",
   "execution_count": 8,
   "metadata": {},
   "outputs": [],
   "source": [
    "# And the day of the month, it will be useful:\n",
    "ventes_1[\"jour\"]=ventes_1[\"date\"].dt.day"
   ]
  },
  {
   "cell_type": "code",
   "execution_count": 9,
   "metadata": {},
   "outputs": [
    {
     "data": {
      "text/html": [
       "<div>\n",
       "<style scoped>\n",
       "    .dataframe tbody tr th:only-of-type {\n",
       "        vertical-align: middle;\n",
       "    }\n",
       "\n",
       "    .dataframe tbody tr th {\n",
       "        vertical-align: top;\n",
       "    }\n",
       "\n",
       "    .dataframe thead th {\n",
       "        text-align: right;\n",
       "    }\n",
       "</style>\n",
       "<table border=\"1\" class=\"dataframe\">\n",
       "  <thead>\n",
       "    <tr style=\"text-align: right;\">\n",
       "      <th></th>\n",
       "      <th>id_prod</th>\n",
       "      <th>categ</th>\n",
       "      <th>price</th>\n",
       "      <th>client_id</th>\n",
       "      <th>sex</th>\n",
       "      <th>age</th>\n",
       "      <th>session_id</th>\n",
       "      <th>basket_size</th>\n",
       "      <th>date</th>\n",
       "      <th>mois</th>\n",
       "      <th>jour</th>\n",
       "    </tr>\n",
       "  </thead>\n",
       "  <tbody>\n",
       "    <tr>\n",
       "      <td>0</td>\n",
       "      <td>0_1483</td>\n",
       "      <td>0</td>\n",
       "      <td>4.99</td>\n",
       "      <td>c_4450</td>\n",
       "      <td>f</td>\n",
       "      <td>44</td>\n",
       "      <td>s_18746</td>\n",
       "      <td>3</td>\n",
       "      <td>2021-04-10</td>\n",
       "      <td>avril</td>\n",
       "      <td>10</td>\n",
       "    </tr>\n",
       "    <tr>\n",
       "      <td>1</td>\n",
       "      <td>2_226</td>\n",
       "      <td>2</td>\n",
       "      <td>65.75</td>\n",
       "      <td>c_277</td>\n",
       "      <td>f</td>\n",
       "      <td>21</td>\n",
       "      <td>s_159142</td>\n",
       "      <td>2</td>\n",
       "      <td>2022-02-03</td>\n",
       "      <td>fevrier</td>\n",
       "      <td>3</td>\n",
       "    </tr>\n",
       "    <tr>\n",
       "      <td>2</td>\n",
       "      <td>1_374</td>\n",
       "      <td>1</td>\n",
       "      <td>10.71</td>\n",
       "      <td>c_4270</td>\n",
       "      <td>f</td>\n",
       "      <td>42</td>\n",
       "      <td>s_94290</td>\n",
       "      <td>9</td>\n",
       "      <td>2021-09-23</td>\n",
       "      <td>septembre</td>\n",
       "      <td>23</td>\n",
       "    </tr>\n",
       "    <tr>\n",
       "      <td>3</td>\n",
       "      <td>0_2186</td>\n",
       "      <td>0</td>\n",
       "      <td>4.20</td>\n",
       "      <td>c_4597</td>\n",
       "      <td>m</td>\n",
       "      <td>58</td>\n",
       "      <td>s_105936</td>\n",
       "      <td>1</td>\n",
       "      <td>2021-10-17</td>\n",
       "      <td>octobre</td>\n",
       "      <td>17</td>\n",
       "    </tr>\n",
       "    <tr>\n",
       "      <td>4</td>\n",
       "      <td>0_1351</td>\n",
       "      <td>0</td>\n",
       "      <td>8.99</td>\n",
       "      <td>c_1242</td>\n",
       "      <td>f</td>\n",
       "      <td>41</td>\n",
       "      <td>s_63642</td>\n",
       "      <td>2</td>\n",
       "      <td>2021-07-17</td>\n",
       "      <td>juillet</td>\n",
       "      <td>17</td>\n",
       "    </tr>\n",
       "  </tbody>\n",
       "</table>\n",
       "</div>"
      ],
      "text/plain": [
       "  id_prod  categ  price client_id sex  age session_id  basket_size       date  \\\n",
       "0  0_1483      0   4.99    c_4450   f   44    s_18746            3 2021-04-10   \n",
       "1   2_226      2  65.75     c_277   f   21   s_159142            2 2022-02-03   \n",
       "2   1_374      1  10.71    c_4270   f   42    s_94290            9 2021-09-23   \n",
       "3  0_2186      0   4.20    c_4597   m   58   s_105936            1 2021-10-17   \n",
       "4  0_1351      0   8.99    c_1242   f   41    s_63642            2 2021-07-17   \n",
       "\n",
       "        mois  jour  \n",
       "0      avril    10  \n",
       "1    fevrier     3  \n",
       "2  septembre    23  \n",
       "3    octobre    17  \n",
       "4    juillet    17  "
      ]
     },
     "execution_count": 9,
     "metadata": {},
     "output_type": "execute_result"
    }
   ],
   "source": [
    "# We reindex our data to see more clearly:\n",
    "ventes_2=ventes_1.reindex(columns=[\"id_prod\", \"categ\", \"price\", \"client_id\", \"sex\", \"age\", \"session_id\", \"basket_size\",\n",
    "                             \"date\", \"mois\", \"jour\"])\n",
    "ventes_2.head()"
   ]
  },
  {
   "cell_type": "markdown",
   "metadata": {},
   "source": [
    "# Pour faire diverses observations graphiques sur les ventes réalisées de mars 2021 à février 2022. "
   ]
  },
  {
   "cell_type": "code",
   "execution_count": 10,
   "metadata": {},
   "outputs": [],
   "source": [
    "def couleur(c):\n",
    "    if c==0: return(\"steelblue\")\n",
    "    elif c==1: return(\"crimson\") \n",
    "    else: return(\"goldenrod\") \n",
    "#Ce sera notre couleur de repère pour la catégorie."
   ]
  },
  {
   "cell_type": "code",
   "execution_count": 11,
   "metadata": {},
   "outputs": [],
   "source": [
    "# color palette for the 3 categories.\n",
    "palette=[couleur(c) for c in range(3)] \n",
    "categories_3 = [\"Catégorie %d\" %i for i in range(3)]"
   ]
  },
  {
   "cell_type": "code",
   "execution_count": 12,
   "metadata": {},
   "outputs": [],
   "source": [
    "# Several individual studies will be conducted on the sales of each category of books:\n",
    "[categ_0, categ_1, categ_2] = [ventes_2.loc[ventes_2[\"categ\"]==i] for i in range(3)]"
   ]
  },
  {
   "cell_type": "code",
   "execution_count": 13,
   "metadata": {},
   "outputs": [],
   "source": [
    "# A function to easily perform a groupby on a table:\n",
    "def groupby_var(data, var):\n",
    "    return(pd.DataFrame(data.groupby(var).sum()[\"price\"]).reset_index())"
   ]
  },
  {
   "cell_type": "code",
   "execution_count": 14,
   "metadata": {},
   "outputs": [],
   "source": [
    "# A function that reorders our data chronologically (from March to February):\n",
    "def periode(data):\n",
    "    data[\"chronologie\"]=data[\"mois\"].apply(chronologie)\n",
    "    data=data.sort_values(by=\"chronologie\")\n",
    "    data.drop(columns=\"chronologie\", inplace=True)\n",
    "    return(data)"
   ]
  },
  {
   "cell_type": "code",
   "execution_count": 15,
   "metadata": {},
   "outputs": [],
   "source": [
    "# The dim() function will allow us to define each time the dimensions of the figures that we will display:\n",
    "def dim(x, y): return(plt.figure(figsize=(x, y)))"
   ]
  },
  {
   "cell_type": "code",
   "execution_count": 16,
   "metadata": {},
   "outputs": [],
   "source": [
    "# Here we define the parameters of the boxplots and pie charts for the whole mission:\n",
    "medianprops = {\"color\":\"black\"}\n",
    "meanprops = {\"marker\":\"o\", \"markeredgecolor\":\"black\", \"markerfacecolor\":\"firebrick\"}\n",
    "autopct=lambda x: str(round(x, 2))+\"%\""
   ]
  },
  {
   "cell_type": "code",
   "execution_count": 17,
   "metadata": {},
   "outputs": [],
   "source": [
    "# The boxplot() function which will return the boxplot of the X and Y variables of data:\n",
    "def boxplot(data, X, Y):\n",
    "    categories = data[X].unique() ; CAT=[]\n",
    "    for i in categories:\n",
    "        CAT.append(data[data[X]==i][Y])\n",
    "    return(dim(18, 3), plt.boxplot(CAT, labels=categories, showfliers=False, medianprops=medianprops, \n",
    "                                   vert=False, patch_artist=True, showmeans=True, meanprops=meanprops))"
   ]
  },
  {
   "cell_type": "code",
   "execution_count": 18,
   "metadata": {},
   "outputs": [
    {
     "data": {
      "text/html": [
       "<div>\n",
       "<style scoped>\n",
       "    .dataframe tbody tr th:only-of-type {\n",
       "        vertical-align: middle;\n",
       "    }\n",
       "\n",
       "    .dataframe tbody tr th {\n",
       "        vertical-align: top;\n",
       "    }\n",
       "\n",
       "    .dataframe thead th {\n",
       "        text-align: right;\n",
       "    }\n",
       "</style>\n",
       "<table border=\"1\" class=\"dataframe\">\n",
       "  <thead>\n",
       "    <tr style=\"text-align: right;\">\n",
       "      <th></th>\n",
       "      <th>id_prod</th>\n",
       "      <th>categ</th>\n",
       "      <th>price</th>\n",
       "      <th>client_id</th>\n",
       "      <th>sex</th>\n",
       "      <th>age</th>\n",
       "      <th>session_id</th>\n",
       "      <th>basket_size</th>\n",
       "      <th>date</th>\n",
       "      <th>mois</th>\n",
       "      <th>jour</th>\n",
       "    </tr>\n",
       "  </thead>\n",
       "  <tbody>\n",
       "    <tr>\n",
       "      <td>0</td>\n",
       "      <td>0_1483</td>\n",
       "      <td>0</td>\n",
       "      <td>4.99</td>\n",
       "      <td>c_4450</td>\n",
       "      <td>f</td>\n",
       "      <td>44</td>\n",
       "      <td>s_18746</td>\n",
       "      <td>3</td>\n",
       "      <td>2021-04-10</td>\n",
       "      <td>avril</td>\n",
       "      <td>10</td>\n",
       "    </tr>\n",
       "    <tr>\n",
       "      <td>1</td>\n",
       "      <td>2_226</td>\n",
       "      <td>2</td>\n",
       "      <td>65.75</td>\n",
       "      <td>c_277</td>\n",
       "      <td>f</td>\n",
       "      <td>21</td>\n",
       "      <td>s_159142</td>\n",
       "      <td>2</td>\n",
       "      <td>2022-02-03</td>\n",
       "      <td>fevrier</td>\n",
       "      <td>3</td>\n",
       "    </tr>\n",
       "    <tr>\n",
       "      <td>2</td>\n",
       "      <td>1_374</td>\n",
       "      <td>1</td>\n",
       "      <td>10.71</td>\n",
       "      <td>c_4270</td>\n",
       "      <td>f</td>\n",
       "      <td>42</td>\n",
       "      <td>s_94290</td>\n",
       "      <td>9</td>\n",
       "      <td>2021-09-23</td>\n",
       "      <td>septembre</td>\n",
       "      <td>23</td>\n",
       "    </tr>\n",
       "    <tr>\n",
       "      <td>3</td>\n",
       "      <td>0_2186</td>\n",
       "      <td>0</td>\n",
       "      <td>4.20</td>\n",
       "      <td>c_4597</td>\n",
       "      <td>m</td>\n",
       "      <td>58</td>\n",
       "      <td>s_105936</td>\n",
       "      <td>1</td>\n",
       "      <td>2021-10-17</td>\n",
       "      <td>octobre</td>\n",
       "      <td>17</td>\n",
       "    </tr>\n",
       "    <tr>\n",
       "      <td>4</td>\n",
       "      <td>0_1351</td>\n",
       "      <td>0</td>\n",
       "      <td>8.99</td>\n",
       "      <td>c_1242</td>\n",
       "      <td>f</td>\n",
       "      <td>41</td>\n",
       "      <td>s_63642</td>\n",
       "      <td>2</td>\n",
       "      <td>2021-07-17</td>\n",
       "      <td>juillet</td>\n",
       "      <td>17</td>\n",
       "    </tr>\n",
       "    <tr>\n",
       "      <td>...</td>\n",
       "      <td>...</td>\n",
       "      <td>...</td>\n",
       "      <td>...</td>\n",
       "      <td>...</td>\n",
       "      <td>...</td>\n",
       "      <td>...</td>\n",
       "      <td>...</td>\n",
       "      <td>...</td>\n",
       "      <td>...</td>\n",
       "      <td>...</td>\n",
       "      <td>...</td>\n",
       "    </tr>\n",
       "    <tr>\n",
       "      <td>336811</td>\n",
       "      <td>1_671</td>\n",
       "      <td>1</td>\n",
       "      <td>31.99</td>\n",
       "      <td>c_3454</td>\n",
       "      <td>m</td>\n",
       "      <td>52</td>\n",
       "      <td>s_40720</td>\n",
       "      <td>1</td>\n",
       "      <td>2021-05-28</td>\n",
       "      <td>mai</td>\n",
       "      <td>28</td>\n",
       "    </tr>\n",
       "    <tr>\n",
       "      <td>336812</td>\n",
       "      <td>0_759</td>\n",
       "      <td>0</td>\n",
       "      <td>22.99</td>\n",
       "      <td>c_6268</td>\n",
       "      <td>m</td>\n",
       "      <td>30</td>\n",
       "      <td>s_50568</td>\n",
       "      <td>2</td>\n",
       "      <td>2021-06-19</td>\n",
       "      <td>juin</td>\n",
       "      <td>19</td>\n",
       "    </tr>\n",
       "    <tr>\n",
       "      <td>336813</td>\n",
       "      <td>0_1256</td>\n",
       "      <td>0</td>\n",
       "      <td>11.03</td>\n",
       "      <td>c_4137</td>\n",
       "      <td>f</td>\n",
       "      <td>53</td>\n",
       "      <td>s_7219</td>\n",
       "      <td>1</td>\n",
       "      <td>2021-03-16</td>\n",
       "      <td>mars</td>\n",
       "      <td>16</td>\n",
       "    </tr>\n",
       "    <tr>\n",
       "      <td>336814</td>\n",
       "      <td>2_227</td>\n",
       "      <td>2</td>\n",
       "      <td>50.99</td>\n",
       "      <td>c_5</td>\n",
       "      <td>f</td>\n",
       "      <td>27</td>\n",
       "      <td>s_112349</td>\n",
       "      <td>1</td>\n",
       "      <td>2021-10-30</td>\n",
       "      <td>octobre</td>\n",
       "      <td>30</td>\n",
       "    </tr>\n",
       "    <tr>\n",
       "      <td>336815</td>\n",
       "      <td>0_1417</td>\n",
       "      <td>0</td>\n",
       "      <td>17.99</td>\n",
       "      <td>c_6714</td>\n",
       "      <td>f</td>\n",
       "      <td>53</td>\n",
       "      <td>s_54117</td>\n",
       "      <td>4</td>\n",
       "      <td>2021-06-26</td>\n",
       "      <td>juin</td>\n",
       "      <td>26</td>\n",
       "    </tr>\n",
       "  </tbody>\n",
       "</table>\n",
       "<p>336816 rows × 11 columns</p>\n",
       "</div>"
      ],
      "text/plain": [
       "       id_prod  categ  price client_id sex  age session_id  basket_size  \\\n",
       "0       0_1483      0   4.99    c_4450   f   44    s_18746            3   \n",
       "1        2_226      2  65.75     c_277   f   21   s_159142            2   \n",
       "2        1_374      1  10.71    c_4270   f   42    s_94290            9   \n",
       "3       0_2186      0   4.20    c_4597   m   58   s_105936            1   \n",
       "4       0_1351      0   8.99    c_1242   f   41    s_63642            2   \n",
       "...        ...    ...    ...       ...  ..  ...        ...          ...   \n",
       "336811   1_671      1  31.99    c_3454   m   52    s_40720            1   \n",
       "336812   0_759      0  22.99    c_6268   m   30    s_50568            2   \n",
       "336813  0_1256      0  11.03    c_4137   f   53     s_7219            1   \n",
       "336814   2_227      2  50.99       c_5   f   27   s_112349            1   \n",
       "336815  0_1417      0  17.99    c_6714   f   53    s_54117            4   \n",
       "\n",
       "             date       mois  jour  \n",
       "0      2021-04-10      avril    10  \n",
       "1      2022-02-03    fevrier     3  \n",
       "2      2021-09-23  septembre    23  \n",
       "3      2021-10-17    octobre    17  \n",
       "4      2021-07-17    juillet    17  \n",
       "...           ...        ...   ...  \n",
       "336811 2021-05-28        mai    28  \n",
       "336812 2021-06-19       juin    19  \n",
       "336813 2021-03-16       mars    16  \n",
       "336814 2021-10-30    octobre    30  \n",
       "336815 2021-06-26       juin    26  \n",
       "\n",
       "[336816 rows x 11 columns]"
      ]
     },
     "execution_count": 18,
     "metadata": {},
     "output_type": "execute_result"
    }
   ],
   "source": [
    "ventes_2"
   ]
  },
  {
   "cell_type": "markdown",
   "metadata": {},
   "source": [
    "réutiliser le DataFrame \"customers\", où nous ajoutons la colonne \"is_active\" qui renvoie \"ACTIVE\" si le client en question a effectué au moins un achat pendant la période d'étude (mars 2021 - février 2022), \"INACTIVE\" sinon"
   ]
  },
  {
   "cell_type": "code",
   "execution_count": 21,
   "metadata": {},
   "outputs": [
    {
     "data": {
      "text/html": [
       "<div>\n",
       "<style scoped>\n",
       "    .dataframe tbody tr th:only-of-type {\n",
       "        vertical-align: middle;\n",
       "    }\n",
       "\n",
       "    .dataframe tbody tr th {\n",
       "        vertical-align: top;\n",
       "    }\n",
       "\n",
       "    .dataframe thead th {\n",
       "        text-align: right;\n",
       "    }\n",
       "</style>\n",
       "<table border=\"1\" class=\"dataframe\">\n",
       "  <thead>\n",
       "    <tr style=\"text-align: right;\">\n",
       "      <th></th>\n",
       "      <th>client_id</th>\n",
       "      <th>sex</th>\n",
       "      <th>birth</th>\n",
       "      <th>is active</th>\n",
       "    </tr>\n",
       "  </thead>\n",
       "  <tbody>\n",
       "    <tr>\n",
       "      <td>0</td>\n",
       "      <td>c_4410</td>\n",
       "      <td>f</td>\n",
       "      <td>1967</td>\n",
       "      <td>Active</td>\n",
       "    </tr>\n",
       "    <tr>\n",
       "      <td>1</td>\n",
       "      <td>c_7839</td>\n",
       "      <td>f</td>\n",
       "      <td>1975</td>\n",
       "      <td>Active</td>\n",
       "    </tr>\n",
       "    <tr>\n",
       "      <td>2</td>\n",
       "      <td>c_1699</td>\n",
       "      <td>f</td>\n",
       "      <td>1984</td>\n",
       "      <td>Active</td>\n",
       "    </tr>\n",
       "    <tr>\n",
       "      <td>3</td>\n",
       "      <td>c_5961</td>\n",
       "      <td>f</td>\n",
       "      <td>1962</td>\n",
       "      <td>Active</td>\n",
       "    </tr>\n",
       "    <tr>\n",
       "      <td>4</td>\n",
       "      <td>c_5320</td>\n",
       "      <td>m</td>\n",
       "      <td>1943</td>\n",
       "      <td>Active</td>\n",
       "    </tr>\n",
       "  </tbody>\n",
       "</table>\n",
       "</div>"
      ],
      "text/plain": [
       "  client_id sex  birth is active\n",
       "0    c_4410   f   1967    Active\n",
       "1    c_7839   f   1975    Active\n",
       "2    c_1699   f   1984    Active\n",
       "3    c_5961   f   1962    Active\n",
       "4    c_5320   m   1943    Active"
      ]
     },
     "execution_count": 21,
     "metadata": {},
     "output_type": "execute_result"
    }
   ],
   "source": [
    "def active(cus):\n",
    "    if cus==True: return(\"Active\")\n",
    "    else: (\"Inactive\")\n",
    "df_customers['is active']=df_customers['client_id'].isin(ventes_2.client_id).apply(active)\n",
    "df_customers.head()"
   ]
  },
  {
   "cell_type": "markdown",
   "metadata": {},
   "source": [
    "nous allons étudier les sessions d'achat et créer le DataFrame \"sessions\" qui rassemble les montants totaux de chaque session d'achat effectuée sur le site au cours de l'année."
   ]
  },
  {
   "cell_type": "code",
   "execution_count": 22,
   "metadata": {},
   "outputs": [
    {
     "data": {
      "text/html": [
       "<div>\n",
       "<style scoped>\n",
       "    .dataframe tbody tr th:only-of-type {\n",
       "        vertical-align: middle;\n",
       "    }\n",
       "\n",
       "    .dataframe tbody tr th {\n",
       "        vertical-align: top;\n",
       "    }\n",
       "\n",
       "    .dataframe thead th {\n",
       "        text-align: right;\n",
       "    }\n",
       "</style>\n",
       "<table border=\"1\" class=\"dataframe\">\n",
       "  <thead>\n",
       "    <tr style=\"text-align: right;\">\n",
       "      <th></th>\n",
       "      <th>session_id</th>\n",
       "      <th>client_id</th>\n",
       "      <th>age</th>\n",
       "      <th>date</th>\n",
       "      <th>mois</th>\n",
       "      <th>jour</th>\n",
       "      <th>montant_session</th>\n",
       "      <th>taille_panier</th>\n",
       "    </tr>\n",
       "  </thead>\n",
       "  <tbody>\n",
       "    <tr>\n",
       "      <td>0</td>\n",
       "      <td>s_1</td>\n",
       "      <td>c_329</td>\n",
       "      <td>54</td>\n",
       "      <td>2021-03-01</td>\n",
       "      <td>mars</td>\n",
       "      <td>1</td>\n",
       "      <td>11.99</td>\n",
       "      <td>1</td>\n",
       "    </tr>\n",
       "    <tr>\n",
       "      <td>1</td>\n",
       "      <td>s_10</td>\n",
       "      <td>c_2218</td>\n",
       "      <td>51</td>\n",
       "      <td>2021-03-01</td>\n",
       "      <td>mars</td>\n",
       "      <td>1</td>\n",
       "      <td>26.99</td>\n",
       "      <td>1</td>\n",
       "    </tr>\n",
       "    <tr>\n",
       "      <td>2</td>\n",
       "      <td>s_100</td>\n",
       "      <td>c_3854</td>\n",
       "      <td>43</td>\n",
       "      <td>2021-03-01</td>\n",
       "      <td>mars</td>\n",
       "      <td>1</td>\n",
       "      <td>33.72</td>\n",
       "      <td>2</td>\n",
       "    </tr>\n",
       "    <tr>\n",
       "      <td>3</td>\n",
       "      <td>s_1000</td>\n",
       "      <td>c_1014</td>\n",
       "      <td>32</td>\n",
       "      <td>2021-03-03</td>\n",
       "      <td>mars</td>\n",
       "      <td>3</td>\n",
       "      <td>39.22</td>\n",
       "      <td>4</td>\n",
       "    </tr>\n",
       "    <tr>\n",
       "      <td>4</td>\n",
       "      <td>s_10000</td>\n",
       "      <td>c_476</td>\n",
       "      <td>32</td>\n",
       "      <td>2021-03-22</td>\n",
       "      <td>mars</td>\n",
       "      <td>22</td>\n",
       "      <td>41.49</td>\n",
       "      <td>3</td>\n",
       "    </tr>\n",
       "  </tbody>\n",
       "</table>\n",
       "</div>"
      ],
      "text/plain": [
       "  session_id client_id  age       date  mois  jour  montant_session  \\\n",
       "0        s_1     c_329   54 2021-03-01  mars     1            11.99   \n",
       "1       s_10    c_2218   51 2021-03-01  mars     1            26.99   \n",
       "2      s_100    c_3854   43 2021-03-01  mars     1            33.72   \n",
       "3     s_1000    c_1014   32 2021-03-03  mars     3            39.22   \n",
       "4    s_10000     c_476   32 2021-03-22  mars    22            41.49   \n",
       "\n",
       "   taille_panier  \n",
       "0              1  \n",
       "1              1  \n",
       "2              2  \n",
       "3              4  \n",
       "4              3  "
      ]
     },
     "execution_count": 22,
     "metadata": {},
     "output_type": "execute_result"
    }
   ],
   "source": [
    "session = pd.DataFrame(ventes_2.groupby([\"session_id\", \"client_id\", \"age\", \"date\", \"mois\", \"jour\"])\n",
    "                        .sum()[\"price\"]).reset_index()\n",
    "\n",
    "session.rename(columns={\"price\": \"montant_session\"}, inplace=True)\n",
    "effectif = pd.DataFrame(ventes_2.session_id.value_counts().reset_index())\n",
    "effectif.columns=(\"session_id\", \"taille_panier\")\n",
    "session=pd.merge(session, effectif)\n",
    "session.head()"
   ]
  },
  {
   "cell_type": "markdown",
   "metadata": {},
   "source": [
    "# Pour l’analyse univariée"
   ]
  },
  {
   "cell_type": "markdown",
   "metadata": {},
   "source": [
    "# a. Les caractéristiques des ventes (min, moyenne, max, écart-type)"
   ]
  },
  {
   "cell_type": "code",
   "execution_count": 23,
   "metadata": {},
   "outputs": [
    {
     "data": {
      "text/html": [
       "<div>\n",
       "<style scoped>\n",
       "    .dataframe tbody tr th:only-of-type {\n",
       "        vertical-align: middle;\n",
       "    }\n",
       "\n",
       "    .dataframe tbody tr th {\n",
       "        vertical-align: top;\n",
       "    }\n",
       "\n",
       "    .dataframe thead th {\n",
       "        text-align: right;\n",
       "    }\n",
       "</style>\n",
       "<table border=\"1\" class=\"dataframe\">\n",
       "  <thead>\n",
       "    <tr style=\"text-align: right;\">\n",
       "      <th></th>\n",
       "      <th>categ</th>\n",
       "      <th>price</th>\n",
       "      <th>age</th>\n",
       "      <th>basket_size</th>\n",
       "      <th>jour</th>\n",
       "    </tr>\n",
       "  </thead>\n",
       "  <tbody>\n",
       "    <tr>\n",
       "      <td>count</td>\n",
       "      <td>336816.000000</td>\n",
       "      <td>336816.000000</td>\n",
       "      <td>336816.000000</td>\n",
       "      <td>336816.000000</td>\n",
       "      <td>336816.000000</td>\n",
       "    </tr>\n",
       "    <tr>\n",
       "      <td>mean</td>\n",
       "      <td>0.430024</td>\n",
       "      <td>17.213896</td>\n",
       "      <td>43.176604</td>\n",
       "      <td>2.806357</td>\n",
       "      <td>15.801639</td>\n",
       "    </tr>\n",
       "    <tr>\n",
       "      <td>std</td>\n",
       "      <td>0.591039</td>\n",
       "      <td>17.852868</td>\n",
       "      <td>13.523923</td>\n",
       "      <td>1.632952</td>\n",
       "      <td>8.818361</td>\n",
       "    </tr>\n",
       "    <tr>\n",
       "      <td>min</td>\n",
       "      <td>0.000000</td>\n",
       "      <td>0.620000</td>\n",
       "      <td>17.000000</td>\n",
       "      <td>1.000000</td>\n",
       "      <td>1.000000</td>\n",
       "    </tr>\n",
       "    <tr>\n",
       "      <td>25%</td>\n",
       "      <td>0.000000</td>\n",
       "      <td>8.610000</td>\n",
       "      <td>34.000000</td>\n",
       "      <td>2.000000</td>\n",
       "      <td>8.000000</td>\n",
       "    </tr>\n",
       "    <tr>\n",
       "      <td>50%</td>\n",
       "      <td>0.000000</td>\n",
       "      <td>13.900000</td>\n",
       "      <td>41.000000</td>\n",
       "      <td>2.000000</td>\n",
       "      <td>16.000000</td>\n",
       "    </tr>\n",
       "    <tr>\n",
       "      <td>75%</td>\n",
       "      <td>1.000000</td>\n",
       "      <td>18.990000</td>\n",
       "      <td>50.000000</td>\n",
       "      <td>4.000000</td>\n",
       "      <td>23.000000</td>\n",
       "    </tr>\n",
       "    <tr>\n",
       "      <td>max</td>\n",
       "      <td>2.000000</td>\n",
       "      <td>300.000000</td>\n",
       "      <td>92.000000</td>\n",
       "      <td>14.000000</td>\n",
       "      <td>31.000000</td>\n",
       "    </tr>\n",
       "  </tbody>\n",
       "</table>\n",
       "</div>"
      ],
      "text/plain": [
       "               categ          price            age    basket_size  \\\n",
       "count  336816.000000  336816.000000  336816.000000  336816.000000   \n",
       "mean        0.430024      17.213896      43.176604       2.806357   \n",
       "std         0.591039      17.852868      13.523923       1.632952   \n",
       "min         0.000000       0.620000      17.000000       1.000000   \n",
       "25%         0.000000       8.610000      34.000000       2.000000   \n",
       "50%         0.000000      13.900000      41.000000       2.000000   \n",
       "75%         1.000000      18.990000      50.000000       4.000000   \n",
       "max         2.000000     300.000000      92.000000      14.000000   \n",
       "\n",
       "                jour  \n",
       "count  336816.000000  \n",
       "mean       15.801639  \n",
       "std         8.818361  \n",
       "min         1.000000  \n",
       "25%         8.000000  \n",
       "50%        16.000000  \n",
       "75%        23.000000  \n",
       "max        31.000000  "
      ]
     },
     "execution_count": 23,
     "metadata": {},
     "output_type": "execute_result"
    }
   ],
   "source": [
    "ventes_2.describe()"
   ]
  },
  {
   "cell_type": "markdown",
   "metadata": {},
   "source": [
    "# b. L’évolution des ventes dans le temps"
   ]
  },
  {
   "cell_type": "code",
   "execution_count": 24,
   "metadata": {},
   "outputs": [
    {
     "data": {
      "image/png": "[encoded data removed]",
      "text/plain": [
       "<Figure size 864x360 with 1 Axes>"
      ]
     },
     "metadata": {
      "needs_background": "light"
     },
     "output_type": "display_data"
    }
   ],
   "source": [
    "ventes_date = groupby_var(ventes_2, \"date\") \n",
    "dim(12, 5)\n",
    "plt.plot(ventes_date[\"date\"], ventes_date[\"price\"], color=\"green\", label=\"ventes\", linewidth=1)\n",
    "\n",
    "plt.title(\"L’évolution des ventes dans le temps \", fontsize=20)\n",
    "plt.xlabel(\"Année\") ; plt.ylabel(\"ventes (Prix)\", fontsize=14) ; plt.show()"
   ]
  },
  {
   "attachments": {},
   "cell_type": "markdown",
   "metadata": {},
   "source": [
    "On peut constater une tendance à la hausse de cette évolution tout au long de l'année, avec interruption entre septembre et novembre avec une forte baisse des ventes"
   ]
  },
  {
   "cell_type": "markdown",
   "metadata": {},
   "source": [
    "# Observons l'évolution du Chiffre d'affaires de mars 2021 à février 2022 par catégorie."
   ]
  },
  {
   "cell_type": "code",
   "execution_count": 25,
   "metadata": {},
   "outputs": [
    {
     "data": {
      "image/png": "[encoded data removed]",
      "text/plain": [
       "<Figure size 960x400 with 1 Axes>"
      ]
     },
     "metadata": {
      "needs_background": "light"
     },
     "output_type": "display_data"
    }
   ],
   "source": [
    "figure(num=None, figsize=(12, 5), dpi=80)\n",
    "for i in range(3):\n",
    "    cate=groupby_var(ventes_2.loc[ventes_2[\"categ\"]==i], \"date\")\n",
    "    color=couleur(i)\n",
    "    plt.plot(cate[\"date\"], cate[\"price\"], color=color, linewidth=1, label= \"Catégorie %d\" %i)\n",
    "\n",
    "plt.title(\"L’évolution des ventes dans le temps et categorie\", fontsize=20)\n",
    "plt.xlabel(\"\") ; plt.ylabel(\"ventes\", fontsize=14)\n",
    "plt.legend() \n",
    "plt.show()"
   ]
  },
  {
   "attachments": {},
   "cell_type": "markdown",
   "metadata": {},
   "source": [
    "Ici, observe ventes plus faible pour la catégorie 2. \n",
    "Mais la chute des ventes pour les trois catégories de livres autour de novembre."
   ]
  },
  {
   "cell_type": "markdown",
   "metadata": {},
   "source": [
    "# c. L’évolution des ventes par mois"
   ]
  },
  {
   "cell_type": "code",
   "execution_count": 26,
   "metadata": {},
   "outputs": [
    {
     "data": {
      "image/png": "[encoded data removed]",
      "text/plain": [
       "<Figure size 864x360 with 1 Axes>"
      ]
     },
     "metadata": {
      "needs_background": "light"
     },
     "output_type": "display_data"
    }
   ],
   "source": [
    "Evolution_mensuelle = groupby_var(ventes_2, \"mois\")\n",
    "Evolution_mensuelle[\"chronologie\"]=Evolution_mensuelle[\"mois\"].apply(chronologie)\n",
    "Evolution_mensuelle=Evolution_mensuelle.sort_values(by=\"chronologie\")\n",
    "\n",
    "dim(12, 5) ; plt.plot(Evolution_mensuelle[\"mois\"], Evolution_mensuelle[\"price\"], color=\"orange\")\n",
    "plt.title(\"l’évolution des ventes par mois\", fontsize=25)\n",
    "plt.xlabel(\"Mois\") ; plt.ylabel(\"ventes\", fontsize=20) \n",
    "plt.xticks(rotation=45) \n",
    "plt.show()"
   ]
  },
  {
   "attachments": {},
   "cell_type": "markdown",
   "metadata": {},
   "source": [
    "C'est là que l'on peut constater la chute drastique du chiffre d'affaires en octobre. "
   ]
  },
  {
   "cell_type": "markdown",
   "metadata": {},
   "source": [
    "# d. L’évolution de la contribution et la contribution de chaque catégorie aux ventes"
   ]
  },
  {
   "cell_type": "code",
   "execution_count": 27,
   "metadata": {},
   "outputs": [
    {
     "data": {
      "image/png": "[encoded data removed]",
      "text/plain": [
       "<Figure size 864x360 with 1 Axes>"
      ]
     },
     "metadata": {
      "needs_background": "light"
     },
     "output_type": "display_data"
    }
   ],
   "source": [
    "Evolution_mensuelle_cat=periode(ventes_2.pivot_table(index=\"mois\", columns=\"categ\", values=\"price\", aggfunc=sum).reset_index())\n",
    "Evolution_mensuelle_cat.columns=[\"mois\", \"categ_0\", \"categ_1\", \"categ_2\"] ; dim(12, 5)\n",
    "\n",
    "plt.bar(Evolution_mensuelle_cat.mois, Evolution_mensuelle_cat.categ_0 + Evolution_mensuelle_cat.categ_1 + Evolution_mensuelle_cat.categ_2, color=couleur(2), label=\"Catégorie 2\")\n",
    "plt.bar(Evolution_mensuelle_cat.mois, Evolution_mensuelle_cat.categ_0 + Evolution_mensuelle_cat.categ_1, color=couleur(1), label=\"Catégorie 1\")\n",
    "plt.bar(Evolution_mensuelle_cat.mois, Evolution_mensuelle_cat.categ_0, color=couleur(0), label=\"Catégorie 0\")\n",
    "\n",
    "plt.title(\"Contribution de chaque catégorie au ventes\", fontsize=25) ; plt.legend(loc=\" left\", fontsize=13)\n",
    "plt.xlabel(\"\") ; plt.xticks(rotation= \"vertical\", fontsize=15) ; plt.ylabel(\"ventes\", fontsize=20)  ; plt.show()"
   ]
  },
  {
   "cell_type": "markdown",
   "metadata": {},
   "source": [
    "# e. La contribution de chaque catégorie aux ventes"
   ]
  },
  {
   "cell_type": "code",
   "execution_count": 28,
   "metadata": {},
   "outputs": [
    {
     "data": {
      "image/png": "[encoded data removed]",
      "text/plain": [
       "<Figure size 1296x720 with 2 Axes>"
      ]
     },
     "metadata": {},
     "output_type": "display_data"
    }
   ],
   "source": [
    "dim(18, 10) ; plt.subplot(2, 2, 1)\n",
    "groupby_var(ventes_2, \"categ\")[\"price\"].plot(kind=\"pie\", colors=palette, labels=[\"\", \"\", \"\"], autopct=autopct)\n",
    "plt.title(\"Parts du chiffre d'affaires par catégorie\", fontsize=15) \n",
    "plt.ylabel(\"\")\n",
    "plt.legend(categories_3, loc=\"left\")\n",
    "\n",
    "plt.subplot(2, 2, 2)\n",
    "ventes_2[\"categ\"].value_counts(normalize=True).plot(kind=\"pie\", colors=palette, labels=[\"\", \"\", \"\"], autopct=autopct)\n",
    "plt.title(\"représentation des produits dans les paniers d’achats \", fontsize=15) ; plt.ylabel(\"\")\n",
    "plt.legend(categories_3, loc=\" left\") \n",
    "plt.show()"
   ]
  },
  {
   "attachments": {},
   "cell_type": "markdown",
   "metadata": {},
   "source": [
    "Comparaison des deux diagrammes circulaires :\n",
    "\n",
    "catégorie 0: se vendent bien et représentent le plus grand nombre de ventes (62,21%).\n",
    "\n",
    "catégorie 1: sont les plus vendus (plus forte contribution au Chiffre d’affaires), malgré un nombre de ventes largement inférieure à celui de la catégorie 0.\n",
    "\n",
    "catégorie 2: moins solliciter (5,21% des paniers) et contribuent le moins aux ventes. \n",
    "\n",
    "la comparaison entre le taux de vente et la participation aux ventes suggère que les livres de catégorie 2 sont globalement les livres les plus chers de notre inventaire."
   ]
  },
  {
   "cell_type": "markdown",
   "metadata": {},
   "source": [
    "# f. La distribution des âges des clients "
   ]
  },
  {
   "cell_type": "code",
   "execution_count": 30,
   "metadata": {},
   "outputs": [
    {
     "data": {
      "text/plain": [
       "(array([25622., 30708., 80377., 85605., 55362., 22549., 21349.,  8316.,\n",
       "         5515.,  1413.]),\n",
       " array([17. , 24.5, 32. , 39.5, 47. , 54.5, 62. , 69.5, 77. , 84.5, 92. ]),\n",
       " <a list of 10 Patch objects>)"
      ]
     },
     "execution_count": 30,
     "metadata": {},
     "output_type": "execute_result"
    },
    {
     "data": {
      "image/png": "[encoded data removed]",
      "text/plain": [
       "<Figure size 432x288 with 1 Axes>"
      ]
     },
     "metadata": {
      "needs_background": "light"
     },
     "output_type": "display_data"
    }
   ],
   "source": [
    "plt.hist(ventes_2['age'])"
   ]
  },
  {
   "cell_type": "markdown",
   "metadata": {},
   "source": [
    "Nous pouvons constater que l'âge médian des clients, hommes et femmes, se situe entre 40 et 45 ans. "
   ]
  },
  {
   "cell_type": "markdown",
   "metadata": {},
   "source": [
    "# g. La répartition des clients par sexe"
   ]
  },
  {
   "cell_type": "code",
   "execution_count": 29,
   "metadata": {},
   "outputs": [
    {
     "data": {
      "image/png": "[encoded data removed]",
      "text/plain": [
       "<Figure size 360x360 with 1 Axes>"
      ]
     },
     "metadata": {},
     "output_type": "display_data"
    }
   ],
   "source": [
    "dim(5, 5)\n",
    "df_customers[\"sex\"].value_counts().plot(kind=\"pie\", colors=[\"orange\",\"seagreen\"], labels=[\"\"]*2, autopct=autopct)\n",
    "\n",
    "plt.title(\"Repartition selon le genre des clients\", fontsize=20)\n",
    "plt.ylabel(\"\")\n",
    "plt.legend([\"Femmes\", \"Hommes\"], loc=\"left\", fontsize=14) \n",
    "plt.show()"
   ]
  },
  {
   "cell_type": "markdown",
   "metadata": {},
   "source": [
    "La proportion des clients âgés de 18 ans est la plus élevée et pourrait s’expliquer par une contrainte d’accès au site.\n",
    "Ce diagramme circulaire montre clairement que les clients sont majoritairement constituées de femmes (52,08%). "
   ]
  },
  {
   "cell_type": "markdown",
   "metadata": {},
   "source": [
    "# h. Analyse de la distribution du nombre d’achats par client à travers la courbe de Lorenz"
   ]
  },
  {
   "cell_type": "code",
   "execution_count": 31,
   "metadata": {},
   "outputs": [
    {
     "data": {
      "image/png": "[encoded data removed]",
      "text/plain": [
       "<Figure size 360x360 with 1 Axes>"
      ]
     },
     "metadata": {
      "needs_background": "light"
     },
     "output_type": "display_data"
    }
   ],
   "source": [
    "clients=pd.DataFrame(ventes_2.groupby(\"client_id\").sum()[\"price\"]).sort_values(\"price\")\n",
    "depenses = clients.price.values\n",
    "n = len(depenses)\n",
    "\n",
    "lorenz = np.append([0], np.cumsum(depenses)/sum(depenses))\n",
    "gini=2*(0.5-lorenz.sum()/n)\n",
    "\n",
    "dim(5, 5) ; plt.plot(np.linspace(0-1/n, 1+1/n, n+1), lorenz)\n",
    "plt.axes().axis(\"equal\") ; plt.title(\"Courbe de Lorenz - Gini=%s\" %(round(gini, 2)), fontsize=15)\n",
    "\n",
    "X = arange(0,1,0.01) ; Y=X\n",
    "plot(X, Y) ; plt.show()"
   ]
  },
  {
   "cell_type": "markdown",
   "metadata": {},
   "source": [
    "On observe alors sur la courbe de Lorenz, avec un indice de Gini proche de 0,44 que\n",
    "distribution du nombre d’achats par client n'est pas égalitaire.\n",
    "\n",
    "Ainsi, les achats ne sont pas distribués de manière égale entre les clients ; les gros achats effectués par quelques clients ne sont pas distribués à tous les clients. \n",
    "Si les achats effectués par chaque client et dépensent chaque montant d'argent. Alors la valeur de Gini serait égale à zéro. \n"
   ]
  },
  {
   "cell_type": "markdown",
   "metadata": {},
   "source": [
    "# Analyse descriptive bivariée\n"
   ]
  },
  {
   "cell_type": "markdown",
   "metadata": {},
   "source": [
    "# a. Analyse des ventes par catégories de produits"
   ]
  },
  {
   "cell_type": "code",
   "execution_count": 33,
   "metadata": {},
   "outputs": [
    {
     "data": {
      "image/png": "[encoded data removed]",
      "text/plain": [
       "<Figure size 1296x216 with 1 Axes>"
      ]
     },
     "metadata": {
      "needs_background": "light"
     },
     "output_type": "display_data"
    }
   ],
   "source": [
    "boxplot(ventes_2, 'categ', 'price')\n",
    "plt.title(\"ventes par catégories de produits\", fontsize=25)\n",
    "plt.xlabel(\"Prix en euros\", fontsize=15) ; plt.ylabel(\"Catégories\", fontsize=15) ; plt.yticks(fontsize=14) ; plt.show()"
   ]
  },
  {
   "cell_type": "markdown",
   "metadata": {},
   "source": [
    "CATÉGORIE 0 : Les prix varient de 0 à 30 euros. En moyenne, ces livres coûtent environ 10 euros et la plupart d'entre eux se vendent à bas prix euros. D'après le graphique ci-dessus, il s'agit de la catégorie \"la moins chère\".\n",
    "    \n",
    "CATÉGORIE 1 : Les prix vont de plus de 0 à 40 euros. Cette catégorie semble convenir à tous les portefeuilles.\n",
    "    \n",
    "CATÉGORIE 2 : Les prix vont de 30 euros à 100 euros, c'est la catégorie \"la plus chère\". C'est aussi la catégorie de livres qui offre le plus grand choix en termes de prix"
   ]
  },
  {
   "cell_type": "markdown",
   "metadata": {},
   "source": [
    "# b. Analyse des ventes par sexe du client\n"
   ]
  },
  {
   "cell_type": "code",
   "execution_count": 88,
   "metadata": {},
   "outputs": [
    {
     "data": {
      "image/png": "[encoded data removed]",
      "text/plain": [
       "<Figure size 360x360 with 1 Axes>"
      ]
     },
     "metadata": {},
     "output_type": "display_data"
    }
   ],
   "source": [
    "labels = ventes_2.sex.cat.categories\n",
    "values = ventes_2.sex.value_counts()\n",
    "colors = ['yellowgreen', 'gold']\n",
    "plt.figure(1, figsize=(5, 5))\n",
    "plt.title('ventes par sexe du client')\n",
    "trace = plt.pie(values, labels=labels, colors=colors,\n",
    "                autopct='%1.1f%%', shadow=True, startangle=90)"
   ]
  },
  {
   "cell_type": "markdown",
   "metadata": {},
   "source": [
    "Dans cette analyse des ventes par sexe du client, on peut observer que la contribution des femmes (50,2%) est un peu plus élevée que celle des hommes (49,8%). \n",
    "Donc les ventes des femmes sont plus nombreuses que celles des hommes\n"
   ]
  },
  {
   "cell_type": "markdown",
   "metadata": {},
   "source": [
    "# c. Analyse des ventes par tranche d’âges"
   ]
  },
  {
   "cell_type": "code",
   "execution_count": 36,
   "metadata": {},
   "outputs": [],
   "source": [
    "M_number = ventes_2.age[ventes_2.sex=='m']\n",
    "F_number = ventes_2.age[ventes_2.sex=='f']\n",
    "tranches = [10,20,30,40,50,60,70,80,90]"
   ]
  },
  {
   "cell_type": "code",
   "execution_count": 37,
   "metadata": {},
   "outputs": [
    {
     "data": {
      "image/png": "[encoded data removed]",
      "text/plain": [
       "<Figure size 720x360 with 1 Axes>"
      ]
     },
     "metadata": {
      "needs_background": "light"
     },
     "output_type": "display_data"
    }
   ],
   "source": [
    "plt.figure(1, figsize=(10, 5))\n",
    "plt.title(\"ventes par tranche d’âges\")\n",
    "plt.hist([M_number, F_number], bins = tranches, color = ['yellowgreen', 'gold'])\n",
    "labels = ['Hommes', 'Femmes']\n",
    "plt.legend(labels)\n",
    "plt.xlabel('âge')\n",
    "plt.ylabel('nombre de ventes')\n",
    "plt.show()"
   ]
  },
  {
   "cell_type": "markdown",
   "metadata": {},
   "source": [
    "# d. Analyse des catégories de produits achetés en fonction de l’âge du client "
   ]
  },
  {
   "cell_type": "code",
   "execution_count": 38,
   "metadata": {},
   "outputs": [],
   "source": [
    "def get_tranche(a):\n",
    "    if a<=20: return(\"etudiant\")\n",
    "    elif a<=50: return(\"actif\")\n",
    "    else: return(\"senior\")"
   ]
  },
  {
   "cell_type": "code",
   "execution_count": 39,
   "metadata": {},
   "outputs": [
    {
     "data": {
      "text/html": [
       "<div>\n",
       "<style scoped>\n",
       "    .dataframe tbody tr th:only-of-type {\n",
       "        vertical-align: middle;\n",
       "    }\n",
       "\n",
       "    .dataframe tbody tr th {\n",
       "        vertical-align: top;\n",
       "    }\n",
       "\n",
       "    .dataframe thead th {\n",
       "        text-align: right;\n",
       "    }\n",
       "</style>\n",
       "<table border=\"1\" class=\"dataframe\">\n",
       "  <thead>\n",
       "    <tr style=\"text-align: right;\">\n",
       "      <th></th>\n",
       "      <th>Unnamed: 0</th>\n",
       "      <th>id_prod</th>\n",
       "      <th>session_id</th>\n",
       "      <th>client_id</th>\n",
       "      <th>date</th>\n",
       "      <th>heure</th>\n",
       "      <th>price</th>\n",
       "      <th>categ</th>\n",
       "      <th>sex</th>\n",
       "      <th>birth</th>\n",
       "      <th>age</th>\n",
       "      <th>tranche</th>\n",
       "    </tr>\n",
       "  </thead>\n",
       "  <tbody>\n",
       "    <tr>\n",
       "      <td>0</td>\n",
       "      <td>0</td>\n",
       "      <td>0_1483</td>\n",
       "      <td>s_18746</td>\n",
       "      <td>c_4450</td>\n",
       "      <td>2021-04-10</td>\n",
       "      <td>00:00:00</td>\n",
       "      <td>4.99</td>\n",
       "      <td>0</td>\n",
       "      <td>f</td>\n",
       "      <td>1977</td>\n",
       "      <td>44</td>\n",
       "      <td>actif</td>\n",
       "    </tr>\n",
       "    <tr>\n",
       "      <td>1</td>\n",
       "      <td>1</td>\n",
       "      <td>2_226</td>\n",
       "      <td>s_159142</td>\n",
       "      <td>c_277</td>\n",
       "      <td>2022-02-03</td>\n",
       "      <td>00:00:00</td>\n",
       "      <td>65.75</td>\n",
       "      <td>2</td>\n",
       "      <td>f</td>\n",
       "      <td>2000</td>\n",
       "      <td>21</td>\n",
       "      <td>actif</td>\n",
       "    </tr>\n",
       "    <tr>\n",
       "      <td>2</td>\n",
       "      <td>2</td>\n",
       "      <td>1_374</td>\n",
       "      <td>s_94290</td>\n",
       "      <td>c_4270</td>\n",
       "      <td>2021-09-23</td>\n",
       "      <td>00:00:00</td>\n",
       "      <td>10.71</td>\n",
       "      <td>1</td>\n",
       "      <td>f</td>\n",
       "      <td>1979</td>\n",
       "      <td>42</td>\n",
       "      <td>actif</td>\n",
       "    </tr>\n",
       "    <tr>\n",
       "      <td>3</td>\n",
       "      <td>3</td>\n",
       "      <td>0_2186</td>\n",
       "      <td>s_105936</td>\n",
       "      <td>c_4597</td>\n",
       "      <td>2021-10-17</td>\n",
       "      <td>00:00:00</td>\n",
       "      <td>4.20</td>\n",
       "      <td>0</td>\n",
       "      <td>m</td>\n",
       "      <td>1963</td>\n",
       "      <td>58</td>\n",
       "      <td>senior</td>\n",
       "    </tr>\n",
       "    <tr>\n",
       "      <td>4</td>\n",
       "      <td>4</td>\n",
       "      <td>0_1351</td>\n",
       "      <td>s_63642</td>\n",
       "      <td>c_1242</td>\n",
       "      <td>2021-07-17</td>\n",
       "      <td>00:00:00</td>\n",
       "      <td>8.99</td>\n",
       "      <td>0</td>\n",
       "      <td>f</td>\n",
       "      <td>1980</td>\n",
       "      <td>41</td>\n",
       "      <td>actif</td>\n",
       "    </tr>\n",
       "    <tr>\n",
       "      <td>...</td>\n",
       "      <td>...</td>\n",
       "      <td>...</td>\n",
       "      <td>...</td>\n",
       "      <td>...</td>\n",
       "      <td>...</td>\n",
       "      <td>...</td>\n",
       "      <td>...</td>\n",
       "      <td>...</td>\n",
       "      <td>...</td>\n",
       "      <td>...</td>\n",
       "      <td>...</td>\n",
       "      <td>...</td>\n",
       "    </tr>\n",
       "    <tr>\n",
       "      <td>336811</td>\n",
       "      <td>336811</td>\n",
       "      <td>1_671</td>\n",
       "      <td>s_40720</td>\n",
       "      <td>c_3454</td>\n",
       "      <td>2021-05-28</td>\n",
       "      <td>00:00:00</td>\n",
       "      <td>31.99</td>\n",
       "      <td>1</td>\n",
       "      <td>m</td>\n",
       "      <td>1969</td>\n",
       "      <td>52</td>\n",
       "      <td>senior</td>\n",
       "    </tr>\n",
       "    <tr>\n",
       "      <td>336812</td>\n",
       "      <td>336812</td>\n",
       "      <td>0_759</td>\n",
       "      <td>s_50568</td>\n",
       "      <td>c_6268</td>\n",
       "      <td>2021-06-19</td>\n",
       "      <td>00:00:00</td>\n",
       "      <td>22.99</td>\n",
       "      <td>0</td>\n",
       "      <td>m</td>\n",
       "      <td>1991</td>\n",
       "      <td>30</td>\n",
       "      <td>actif</td>\n",
       "    </tr>\n",
       "    <tr>\n",
       "      <td>336813</td>\n",
       "      <td>336813</td>\n",
       "      <td>0_1256</td>\n",
       "      <td>s_7219</td>\n",
       "      <td>c_4137</td>\n",
       "      <td>2021-03-16</td>\n",
       "      <td>00:00:00</td>\n",
       "      <td>11.03</td>\n",
       "      <td>0</td>\n",
       "      <td>f</td>\n",
       "      <td>1968</td>\n",
       "      <td>53</td>\n",
       "      <td>senior</td>\n",
       "    </tr>\n",
       "    <tr>\n",
       "      <td>336814</td>\n",
       "      <td>336814</td>\n",
       "      <td>2_227</td>\n",
       "      <td>s_112349</td>\n",
       "      <td>c_5</td>\n",
       "      <td>2021-10-30</td>\n",
       "      <td>00:00:00</td>\n",
       "      <td>50.99</td>\n",
       "      <td>2</td>\n",
       "      <td>f</td>\n",
       "      <td>1994</td>\n",
       "      <td>27</td>\n",
       "      <td>actif</td>\n",
       "    </tr>\n",
       "    <tr>\n",
       "      <td>336815</td>\n",
       "      <td>336815</td>\n",
       "      <td>0_1417</td>\n",
       "      <td>s_54117</td>\n",
       "      <td>c_6714</td>\n",
       "      <td>2021-06-26</td>\n",
       "      <td>00:00:00</td>\n",
       "      <td>17.99</td>\n",
       "      <td>0</td>\n",
       "      <td>f</td>\n",
       "      <td>1968</td>\n",
       "      <td>53</td>\n",
       "      <td>senior</td>\n",
       "    </tr>\n",
       "  </tbody>\n",
       "</table>\n",
       "<p>336816 rows × 12 columns</p>\n",
       "</div>"
      ],
      "text/plain": [
       "        Unnamed: 0 id_prod session_id client_id        date     heure  price  \\\n",
       "0                0  0_1483    s_18746    c_4450  2021-04-10  00:00:00   4.99   \n",
       "1                1   2_226   s_159142     c_277  2022-02-03  00:00:00  65.75   \n",
       "2                2   1_374    s_94290    c_4270  2021-09-23  00:00:00  10.71   \n",
       "3                3  0_2186   s_105936    c_4597  2021-10-17  00:00:00   4.20   \n",
       "4                4  0_1351    s_63642    c_1242  2021-07-17  00:00:00   8.99   \n",
       "...            ...     ...        ...       ...         ...       ...    ...   \n",
       "336811      336811   1_671    s_40720    c_3454  2021-05-28  00:00:00  31.99   \n",
       "336812      336812   0_759    s_50568    c_6268  2021-06-19  00:00:00  22.99   \n",
       "336813      336813  0_1256     s_7219    c_4137  2021-03-16  00:00:00  11.03   \n",
       "336814      336814   2_227   s_112349       c_5  2021-10-30  00:00:00  50.99   \n",
       "336815      336815  0_1417    s_54117    c_6714  2021-06-26  00:00:00  17.99   \n",
       "\n",
       "        categ sex  birth  age tranche  \n",
       "0           0   f   1977   44   actif  \n",
       "1           2   f   2000   21   actif  \n",
       "2           1   f   1979   42   actif  \n",
       "3           0   m   1963   58  senior  \n",
       "4           0   f   1980   41   actif  \n",
       "...       ...  ..    ...  ...     ...  \n",
       "336811      1   m   1969   52  senior  \n",
       "336812      0   m   1991   30   actif  \n",
       "336813      0   f   1968   53  senior  \n",
       "336814      2   f   1994   27   actif  \n",
       "336815      0   f   1968   53  senior  \n",
       "\n",
       "[336816 rows x 12 columns]"
      ]
     },
     "execution_count": 39,
     "metadata": {},
     "output_type": "execute_result"
    }
   ],
   "source": [
    "# Ajout de la colonne \"tranche\":\n",
    "ventes_1[\"tranche\"]=ventes_1[\"age\"].apply(get_tranche)\n",
    "age_table=ventes_1.reset_index(drop=True) ; \n",
    "age_table"
   ]
  },
  {
   "cell_type": "code",
   "execution_count": 40,
   "metadata": {},
   "outputs": [
    {
     "data": {
      "text/html": [
       "<div>\n",
       "<style scoped>\n",
       "    .dataframe tbody tr th:only-of-type {\n",
       "        vertical-align: middle;\n",
       "    }\n",
       "\n",
       "    .dataframe tbody tr th {\n",
       "        vertical-align: top;\n",
       "    }\n",
       "\n",
       "    .dataframe thead th {\n",
       "        text-align: right;\n",
       "    }\n",
       "</style>\n",
       "<table border=\"1\" class=\"dataframe\">\n",
       "  <thead>\n",
       "    <tr style=\"text-align: right;\">\n",
       "      <th>tranche</th>\n",
       "      <th>actif</th>\n",
       "      <th>etudiant</th>\n",
       "      <th>senior</th>\n",
       "    </tr>\n",
       "    <tr>\n",
       "      <th>categ</th>\n",
       "      <th></th>\n",
       "      <th></th>\n",
       "      <th></th>\n",
       "    </tr>\n",
       "  </thead>\n",
       "  <tbody>\n",
       "    <tr>\n",
       "      <td>0</td>\n",
       "      <td>168509</td>\n",
       "      <td>3115</td>\n",
       "      <td>37905</td>\n",
       "    </tr>\n",
       "    <tr>\n",
       "      <td>1</td>\n",
       "      <td>59256</td>\n",
       "      <td>5138</td>\n",
       "      <td>45341</td>\n",
       "    </tr>\n",
       "    <tr>\n",
       "      <td>2</td>\n",
       "      <td>11215</td>\n",
       "      <td>5533</td>\n",
       "      <td>804</td>\n",
       "    </tr>\n",
       "  </tbody>\n",
       "</table>\n",
       "</div>"
      ],
      "text/plain": [
       "tranche   actif  etudiant  senior\n",
       "categ                            \n",
       "0        168509      3115   37905\n",
       "1         59256      5138   45341\n",
       "2         11215      5533     804"
      ]
     },
     "execution_count": 40,
     "metadata": {},
     "output_type": "execute_result"
    }
   ],
   "source": [
    "df_age=pd.crosstab(age_table.categ, age_table.tranche)\n",
    "df_age"
   ]
  },
  {
   "cell_type": "code",
   "execution_count": 41,
   "metadata": {},
   "outputs": [
    {
     "data": {
      "text/html": [
       "<div>\n",
       "<style scoped>\n",
       "    .dataframe tbody tr th:only-of-type {\n",
       "        vertical-align: middle;\n",
       "    }\n",
       "\n",
       "    .dataframe tbody tr th {\n",
       "        vertical-align: top;\n",
       "    }\n",
       "\n",
       "    .dataframe thead th {\n",
       "        text-align: right;\n",
       "    }\n",
       "</style>\n",
       "<table border=\"1\" class=\"dataframe\">\n",
       "  <thead>\n",
       "    <tr style=\"text-align: right;\">\n",
       "      <th>tranche</th>\n",
       "      <th>actif</th>\n",
       "      <th>etudiant</th>\n",
       "      <th>senior</th>\n",
       "    </tr>\n",
       "    <tr>\n",
       "      <th>categ</th>\n",
       "      <th></th>\n",
       "      <th></th>\n",
       "      <th></th>\n",
       "    </tr>\n",
       "  </thead>\n",
       "  <tbody>\n",
       "    <tr>\n",
       "      <td>0</td>\n",
       "      <td>80.42</td>\n",
       "      <td>1.49</td>\n",
       "      <td>18.09</td>\n",
       "    </tr>\n",
       "    <tr>\n",
       "      <td>1</td>\n",
       "      <td>54.00</td>\n",
       "      <td>4.68</td>\n",
       "      <td>41.32</td>\n",
       "    </tr>\n",
       "    <tr>\n",
       "      <td>2</td>\n",
       "      <td>63.90</td>\n",
       "      <td>31.52</td>\n",
       "      <td>4.58</td>\n",
       "    </tr>\n",
       "  </tbody>\n",
       "</table>\n",
       "</div>"
      ],
      "text/plain": [
       "tranche  actif  etudiant  senior\n",
       "categ                           \n",
       "0        80.42      1.49   18.09\n",
       "1        54.00      4.68   41.32\n",
       "2        63.90     31.52    4.58"
      ]
     },
     "execution_count": 41,
     "metadata": {},
     "output_type": "execute_result"
    }
   ],
   "source": [
    "df_age_1=pd.crosstab(age_table.categ, age_table.tranche,normalize=\"index\").round(4)*100\n",
    "df_age_1"
   ]
  },
  {
   "cell_type": "code",
   "execution_count": 42,
   "metadata": {},
   "outputs": [
    {
     "data": {
      "text/plain": [
       "Text(0.5, 1.0, 'catégories de produits achetés en fonction de l’âge du client')"
      ]
     },
     "execution_count": 42,
     "metadata": {},
     "output_type": "execute_result"
    },
    {
     "data": {
      "text/plain": [
       "<Figure size 1800x720 with 0 Axes>"
      ]
     },
     "metadata": {},
     "output_type": "display_data"
    },
    {
     "data": {
      "image/png": "[encoded data removed]",
      "text/plain": [
       "<Figure size 432x288 with 1 Axes>"
      ]
     },
     "metadata": {
      "needs_background": "light"
     },
     "output_type": "display_data"
    }
   ],
   "source": [
    "plt.figure(figsize=(25, 10)) \n",
    "df_age_1.plot(kind='bar',width=0.9,stacked=False, rot=0)\n",
    "plt.legend(labels=df_age_1.columns,fontsize= 10)\n",
    "plt.title(\"catégories de produits achetés en fonction de l’âge du client\",fontsize= 16)"
   ]
  },
  {
   "cell_type": "markdown",
   "metadata": {},
   "source": [
    "Nous pouvons clairement voir avec ce graphique que les clients actifs ont acheté plus de produits dans chaque catégorie.\n",
    "\n",
    "Ensuite, les étudiants ont également acheté un bon pourcentage de produits de la catégorie 2 qui sont chers par rapport aux deux autres produits.  \n",
    "\n",
    "Ainsi, il est clair que les étudiants ne font pas attention au coût, ils achètent s'ils en ont besoin. \n",
    "\n",
    "De plus, un bon pourcentage de livres de catégorie 1 est également acheté par des clients seniors. \n",
    "\n",
    "Les seniors ne dépensent donc pas d'argent pour des livres chers, ils optent pour des produits de moyenne gamme\n"
   ]
  },
  {
   "cell_type": "markdown",
   "metadata": {},
   "source": [
    "# e. Analyse des catégories de produits achetés en fonction du sexe du client"
   ]
  },
  {
   "cell_type": "code",
   "execution_count": 43,
   "metadata": {},
   "outputs": [
    {
     "data": {
      "text/html": [
       "<div>\n",
       "<style scoped>\n",
       "    .dataframe tbody tr th:only-of-type {\n",
       "        vertical-align: middle;\n",
       "    }\n",
       "\n",
       "    .dataframe tbody tr th {\n",
       "        vertical-align: top;\n",
       "    }\n",
       "\n",
       "    .dataframe thead th {\n",
       "        text-align: right;\n",
       "    }\n",
       "</style>\n",
       "<table border=\"1\" class=\"dataframe\">\n",
       "  <thead>\n",
       "    <tr style=\"text-align: right;\">\n",
       "      <th>sex</th>\n",
       "      <th>f</th>\n",
       "      <th>m</th>\n",
       "    </tr>\n",
       "    <tr>\n",
       "      <th>categ</th>\n",
       "      <th></th>\n",
       "      <th></th>\n",
       "    </tr>\n",
       "  </thead>\n",
       "  <tbody>\n",
       "    <tr>\n",
       "      <td>0</td>\n",
       "      <td>49.56</td>\n",
       "      <td>50.44</td>\n",
       "    </tr>\n",
       "    <tr>\n",
       "      <td>1</td>\n",
       "      <td>50.55</td>\n",
       "      <td>49.45</td>\n",
       "    </tr>\n",
       "    <tr>\n",
       "      <td>2</td>\n",
       "      <td>47.06</td>\n",
       "      <td>52.94</td>\n",
       "    </tr>\n",
       "  </tbody>\n",
       "</table>\n",
       "</div>"
      ],
      "text/plain": [
       "sex        f      m\n",
       "categ              \n",
       "0      49.56  50.44\n",
       "1      50.55  49.45\n",
       "2      47.06  52.94"
      ]
     },
     "execution_count": 43,
     "metadata": {},
     "output_type": "execute_result"
    }
   ],
   "source": [
    "df2=pd.crosstab(ventes_1.categ, ventes_1.sex,normalize=\"index\").round(4)*100\n",
    "df2"
   ]
  },
  {
   "cell_type": "code",
   "execution_count": 44,
   "metadata": {},
   "outputs": [
    {
     "data": {
      "text/plain": [
       "Text(0.5, 1.0, 'catégories de produits achetés en fonction du sexe du client')"
      ]
     },
     "execution_count": 44,
     "metadata": {},
     "output_type": "execute_result"
    },
    {
     "data": {
      "text/plain": [
       "<Figure size 1440x1800 with 0 Axes>"
      ]
     },
     "metadata": {},
     "output_type": "display_data"
    },
    {
     "data": {
      "image/png": "[encoded data removed]",
      "text/plain": [
       "<Figure size 432x288 with 1 Axes>"
      ]
     },
     "metadata": {
      "needs_background": "light"
     },
     "output_type": "display_data"
    }
   ],
   "source": [
    "dim(20,25)\n",
    "df2.plot(kind='bar',stacked=True, rot=0)\n",
    "plt.legend(labels=df2.columns,fontsize= 10)\n",
    "plt.title(\"catégories de produits achetés en fonction du sexe du client\",fontsize= 16)"
   ]
  },
  {
   "cell_type": "markdown",
   "metadata": {},
   "source": [
    "CATÉGORIE 0 : Les achats de produits par les femmes (49,56%) sont un peu moins élevés que ceux des hommes (50,44%).\n",
    "    \n",
    "CATÉGORIE  1 : Les achats de produits par les femmes (51,55%) sont un peu plus élevés que ceux des hommes (48,45%).\n",
    "    \n",
    "CATÉGORIE  2 : Les produits achetés par les femmes (47,20%) sont un peu moins que ceux achetés par les hommes (52,94%).\n"
   ]
  },
  {
   "cell_type": "code",
   "execution_count": null,
   "metadata": {},
   "outputs": [],
   "source": []
  },
  {
   "cell_type": "markdown",
   "metadata": {},
   "source": [
    "# Mission n° 3 Correlation"
   ]
  },
  {
   "attachments": {},
   "cell_type": "markdown",
   "metadata": {},
   "source": [
    "# a. Corrélation entre le sexe du client et l'achat de catégories de produits\n"
   ]
  },
  {
   "cell_type": "code",
   "execution_count": 46,
   "metadata": {},
   "outputs": [],
   "source": [
    "import scipy as sp\n",
    "import scipy.stats as stat"
   ]
  },
  {
   "cell_type": "code",
   "execution_count": 47,
   "metadata": {},
   "outputs": [
    {
     "data": {
      "text/html": [
       "<div>\n",
       "<style scoped>\n",
       "    .dataframe tbody tr th:only-of-type {\n",
       "        vertical-align: middle;\n",
       "    }\n",
       "\n",
       "    .dataframe tbody tr th {\n",
       "        vertical-align: top;\n",
       "    }\n",
       "\n",
       "    .dataframe thead th {\n",
       "        text-align: right;\n",
       "    }\n",
       "</style>\n",
       "<table border=\"1\" class=\"dataframe\">\n",
       "  <thead>\n",
       "    <tr style=\"text-align: right;\">\n",
       "      <th>Table</th>\n",
       "      <th>0</th>\n",
       "      <th>1</th>\n",
       "      <th>2</th>\n",
       "    </tr>\n",
       "    <tr>\n",
       "      <th>sex</th>\n",
       "      <th></th>\n",
       "      <th></th>\n",
       "      <th></th>\n",
       "    </tr>\n",
       "  </thead>\n",
       "  <tbody>\n",
       "    <tr>\n",
       "      <td>f</td>\n",
       "      <td>103846.0</td>\n",
       "      <td>55469.0</td>\n",
       "      <td>8260.0</td>\n",
       "    </tr>\n",
       "    <tr>\n",
       "      <td>m</td>\n",
       "      <td>105683.0</td>\n",
       "      <td>54266.0</td>\n",
       "      <td>9292.0</td>\n",
       "    </tr>\n",
       "  </tbody>\n",
       "</table>\n",
       "</div>"
      ],
      "text/plain": [
       "Table         0        1       2\n",
       "sex                             \n",
       "f      103846.0  55469.0  8260.0\n",
       "m      105683.0  54266.0  9292.0"
      ]
     },
     "execution_count": 47,
     "metadata": {},
     "output_type": "execute_result"
    }
   ],
   "source": [
    "corr_Sex_Cat = pd.crosstab(ventes_2.sex,ventes_2.categ).astype(np.float64)\n",
    "corr_Sex_Cat.columns.name = 'Table'\n",
    "corr_Sex_Cat = corr_Sex_Cat.reindex(['f','m'])\n",
    "corr_Sex_Cat.round()"
   ]
  },
  {
   "cell_type": "code",
   "execution_count": 48,
   "metadata": {},
   "outputs": [],
   "source": [
    "corr_Sex_Cat_analysis= sp.stats.chi2_contingency(corr_Sex_Cat)\n",
    "ar=corr_Sex_Cat_analysis[3]"
   ]
  },
  {
   "cell_type": "code",
   "execution_count": 49,
   "metadata": {},
   "outputs": [],
   "source": [
    "contingency = pd.DataFrame(ar, index = ['f', 'm'], columns = ['0', '1', '2']).round()\n",
    "contingency.columns.name = \"Tableau d'indépendance\""
   ]
  },
  {
   "cell_type": "code",
   "execution_count": 50,
   "metadata": {},
   "outputs": [
    {
     "data": {
      "text/html": [
       "<div>\n",
       "<style scoped>\n",
       "    .dataframe tbody tr th:only-of-type {\n",
       "        vertical-align: middle;\n",
       "    }\n",
       "\n",
       "    .dataframe tbody tr th {\n",
       "        vertical-align: top;\n",
       "    }\n",
       "\n",
       "    .dataframe thead th {\n",
       "        text-align: right;\n",
       "    }\n",
       "</style>\n",
       "<table border=\"1\" class=\"dataframe\">\n",
       "  <thead>\n",
       "    <tr style=\"text-align: right;\">\n",
       "      <th>Tableau d'indépendance</th>\n",
       "      <th>0</th>\n",
       "      <th>1</th>\n",
       "      <th>2</th>\n",
       "    </tr>\n",
       "  </thead>\n",
       "  <tbody>\n",
       "    <tr>\n",
       "      <td>f</td>\n",
       "      <td>104246.0</td>\n",
       "      <td>54596.0</td>\n",
       "      <td>8733.0</td>\n",
       "    </tr>\n",
       "    <tr>\n",
       "      <td>m</td>\n",
       "      <td>105283.0</td>\n",
       "      <td>55139.0</td>\n",
       "      <td>8819.0</td>\n",
       "    </tr>\n",
       "  </tbody>\n",
       "</table>\n",
       "</div>"
      ],
      "text/plain": [
       "Tableau d'indépendance         0        1       2\n",
       "f                       104246.0  54596.0  8733.0\n",
       "m                       105283.0  55139.0  8819.0"
      ]
     },
     "execution_count": 50,
     "metadata": {},
     "output_type": "execute_result"
    }
   ],
   "source": [
    "contingency"
   ]
  },
  {
   "cell_type": "code",
   "execution_count": 51,
   "metadata": {},
   "outputs": [
    {
     "data": {
      "text/html": [
       "<div>\n",
       "<style scoped>\n",
       "    .dataframe tbody tr th:only-of-type {\n",
       "        vertical-align: middle;\n",
       "    }\n",
       "\n",
       "    .dataframe tbody tr th {\n",
       "        vertical-align: top;\n",
       "    }\n",
       "\n",
       "    .dataframe thead th {\n",
       "        text-align: right;\n",
       "    }\n",
       "</style>\n",
       "<table border=\"1\" class=\"dataframe\">\n",
       "  <thead>\n",
       "    <tr style=\"text-align: right;\">\n",
       "      <th>Measure du chi-2</th>\n",
       "      <th>0</th>\n",
       "      <th>1</th>\n",
       "      <th>2</th>\n",
       "    </tr>\n",
       "    <tr>\n",
       "      <th>sex</th>\n",
       "      <th></th>\n",
       "      <th></th>\n",
       "      <th></th>\n",
       "    </tr>\n",
       "  </thead>\n",
       "  <tbody>\n",
       "    <tr>\n",
       "      <td>f</td>\n",
       "      <td>2.0</td>\n",
       "      <td>14.0</td>\n",
       "      <td>26.0</td>\n",
       "    </tr>\n",
       "    <tr>\n",
       "      <td>m</td>\n",
       "      <td>2.0</td>\n",
       "      <td>14.0</td>\n",
       "      <td>25.0</td>\n",
       "    </tr>\n",
       "  </tbody>\n",
       "</table>\n",
       "</div>"
      ],
      "text/plain": [
       "Measure du chi-2    0     1     2\n",
       "sex                              \n",
       "f                 2.0  14.0  26.0\n",
       "m                 2.0  14.0  25.0"
      ]
     },
     "execution_count": 51,
     "metadata": {},
     "output_type": "execute_result"
    }
   ],
   "source": [
    "chi2 = (corr_Sex_Cat-ar)**2/ar\n",
    "chi2.columns.name = 'Measure du chi-2'\n",
    "chi2.round()"
   ]
  },
  {
   "cell_type": "code",
   "execution_count": 52,
   "metadata": {},
   "outputs": [
    {
     "data": {
      "text/plain": [
       "<matplotlib.axes._subplots.AxesSubplot at 0x1c037737648>"
      ]
     },
     "execution_count": 52,
     "metadata": {},
     "output_type": "execute_result"
    },
    {
     "data": {
      "image/png": "[encoded data removed]",
      "text/plain": [
       "<Figure size 360x216 with 2 Axes>"
      ]
     },
     "metadata": {
      "needs_background": "light"
     },
     "output_type": "display_data"
    }
   ],
   "source": [
    "fig, ax = plt.subplots(figsize=(5, 3))\n",
    "sns.heatmap(chi2, annot=True, vmin=0, vmax=5)"
   ]
  },
  {
   "attachments": {},
   "cell_type": "markdown",
   "metadata": {},
   "source": [
    "Conclusion:\n",
    "\n",
    "Catégorie 0 : Les hommes semblent être plus intéressés par cette catégorie de livres que les femmes.\n",
    "\n",
    "Catégorie 1 : On constate ici que les femmes sont beaucoup plus intéressées par cette catégorie que les hommes.\n",
    "\n",
    "Catégorie 2 : Les hommes sont aussi souvent intéressés par cette catégorie de livres que les femmes.\n"
   ]
  },
  {
   "cell_type": "code",
   "execution_count": 53,
   "metadata": {},
   "outputs": [
    {
     "name": "stdout",
     "output_type": "stream",
     "text": [
      "le test chi-2 global présente une statistique de 81.73\n",
      "et une p-value de 1.7857752515034613e-18 inférieure à alpha = 0.05%\n",
      "l'hypothèse nulle est rejetée, il existe une corrélation entre le sexe et la catégorie de produit\n"
     ]
    }
   ],
   "source": [
    "print('le test chi-2 global présente une statistique de',corr_Sex_Cat_analysis[0].round(2))\n",
    "print('et une p-value de',corr_Sex_Cat_analysis[1],'inférieure à alpha = 0.05%')\n",
    "print(\"l'hypothèse nulle est rejetée, il existe une corrélation entre le sexe et la catégorie de produit\")"
   ]
  },
  {
   "cell_type": "markdown",
   "metadata": {},
   "source": [
    "# b. Corrélation entre age et montant des achats"
   ]
  },
  {
   "cell_type": "code",
   "execution_count": 54,
   "metadata": {},
   "outputs": [],
   "source": [
    "montant = ventes_1.groupby('age').price.sum()\n",
    "slope, intercept, r_value, p_value, std_err = sp.stats.linregress(montant.index,montant)\n",
    "line = slope*montant.index+intercept"
   ]
  },
  {
   "cell_type": "code",
   "execution_count": 55,
   "metadata": {},
   "outputs": [
    {
     "name": "stdout",
     "output_type": "stream",
     "text": [
      "le modèle linéaire est de la forme : y = ax + b\n",
      "et a = -2265.262050307615\n",
      "avec b = 199745.1467417662\n",
      "et un R² de  0.6000541961960478\n"
     ]
    },
    {
     "data": {
      "image/png": "[encoded data removed]",
      "text/plain": [
       "<Figure size 1080x360 with 1 Axes>"
      ]
     },
     "metadata": {
      "needs_background": "light"
     },
     "output_type": "display_data"
    }
   ],
   "source": [
    "plt.figure(1, figsize=(15, 5))\n",
    "plt.plot(montant.index, montant, color = 'blue', marker = '+', linestyle = 'none')\n",
    "plt.plot(montant.index, line, color = 'red')\n",
    "plt.title('Age et Montant du achats')\n",
    "plt.xlabel('Age')\n",
    "plt.ylabel('Montant du achats')\n",
    "print('le modèle linéaire est de la forme : y = ax + b')\n",
    "print('et a =',slope)\n",
    "print('avec b =', intercept)\n",
    "print('et un R² de ', r_value**2)"
   ]
  },
  {
   "cell_type": "code",
   "execution_count": 56,
   "metadata": {},
   "outputs": [
    {
     "data": {
      "text/html": [
       "<div>\n",
       "<style scoped>\n",
       "    .dataframe tbody tr th:only-of-type {\n",
       "        vertical-align: middle;\n",
       "    }\n",
       "\n",
       "    .dataframe tbody tr th {\n",
       "        vertical-align: top;\n",
       "    }\n",
       "\n",
       "    .dataframe thead th {\n",
       "        text-align: right;\n",
       "    }\n",
       "</style>\n",
       "<table border=\"1\" class=\"dataframe\">\n",
       "  <thead>\n",
       "    <tr style=\"text-align: right;\">\n",
       "      <th></th>\n",
       "      <th>pearson</th>\n",
       "    </tr>\n",
       "  </thead>\n",
       "  <tbody>\n",
       "    <tr>\n",
       "      <td>Valeur du test</td>\n",
       "      <td>-0.77</td>\n",
       "    </tr>\n",
       "    <tr>\n",
       "      <td>P-Value</td>\n",
       "      <td>0.00</td>\n",
       "    </tr>\n",
       "  </tbody>\n",
       "</table>\n",
       "</div>"
      ],
      "text/plain": [
       "                pearson\n",
       "Valeur du test    -0.77\n",
       "P-Value            0.00"
      ]
     },
     "execution_count": 56,
     "metadata": {},
     "output_type": "execute_result"
    }
   ],
   "source": [
    "stat_freq = {'pearson' : sp.stats.pearsonr(montant,montant.index)}\n",
    "pd.DataFrame(stat_freq).round(2).rename(index={0:'Valeur du test',1:'P-Value'})"
   ]
  },
  {
   "attachments": {},
   "cell_type": "markdown",
   "metadata": {},
   "source": [
    "La valeur de R-2 est prédite 0,60, ce qui signifie 60 %, ce qui constitue un bon modèle de régression linéaire négative. \n",
    "Les clients les plus âgés dépensent moins en un an que les jeunes clients. "
   ]
  },
  {
   "cell_type": "markdown",
   "metadata": {},
   "source": [
    "# c. Corrélation entre age et fréquence d'achat"
   ]
  },
  {
   "cell_type": "code",
   "execution_count": 57,
   "metadata": {},
   "outputs": [],
   "source": [
    "frequence = ventes_1.groupby('age').id_prod.count()\n",
    "slope2, intercept2, r_value2, p_value2, std_err2 = sp.stats.linregress(frequence.index,frequence)\n",
    "line2 = slope2*frequence.index+intercept2"
   ]
  },
  {
   "cell_type": "code",
   "execution_count": 58,
   "metadata": {},
   "outputs": [
    {
     "name": "stdout",
     "output_type": "stream",
     "text": [
      "le modèle linéaire est de la forme : y = ax + b\n",
      "et a = -104.2761722488038\n",
      "avec b = 10114.840861244018\n",
      "et un R² de  0.2801137349989304\n"
     ]
    },
    {
     "data": {
      "image/png": "[encoded data removed]",
      "text/plain": [
       "<Figure size 1080x360 with 1 Axes>"
      ]
     },
     "metadata": {
      "needs_background": "light"
     },
     "output_type": "display_data"
    }
   ],
   "source": [
    "plt.figure(1, figsize=(15, 5))\n",
    "plt.plot(frequence.index, frequence, color = 'blue', marker = '+', linestyle = 'none')\n",
    "plt.plot(frequence.index, line2, color = 'red')\n",
    "plt.title('Age et fréquence')\n",
    "plt.xlabel('Age')\n",
    "plt.ylabel(\"fréquence d'achat du produit\")\n",
    "print('le modèle linéaire est de la forme : y = ax + b')\n",
    "print('et a =',slope2)\n",
    "print('avec b =', intercept2)\n",
    "print('et un R² de ', r_value2**2)"
   ]
  },
  {
   "cell_type": "markdown",
   "metadata": {},
   "source": [
    "Value of R-2 is predicted 0.28 means 28% so this is not very good linear regression model."
   ]
  },
  {
   "cell_type": "code",
   "execution_count": 59,
   "metadata": {},
   "outputs": [
    {
     "data": {
      "text/html": [
       "<div>\n",
       "<style scoped>\n",
       "    .dataframe tbody tr th:only-of-type {\n",
       "        vertical-align: middle;\n",
       "    }\n",
       "\n",
       "    .dataframe tbody tr th {\n",
       "        vertical-align: top;\n",
       "    }\n",
       "\n",
       "    .dataframe thead th {\n",
       "        text-align: right;\n",
       "    }\n",
       "</style>\n",
       "<table border=\"1\" class=\"dataframe\">\n",
       "  <thead>\n",
       "    <tr style=\"text-align: right;\">\n",
       "      <th></th>\n",
       "      <th>pearson</th>\n",
       "    </tr>\n",
       "  </thead>\n",
       "  <tbody>\n",
       "    <tr>\n",
       "      <td>Valeur du test</td>\n",
       "      <td>-0.53</td>\n",
       "    </tr>\n",
       "    <tr>\n",
       "      <td>P-Value</td>\n",
       "      <td>0.00</td>\n",
       "    </tr>\n",
       "  </tbody>\n",
       "</table>\n",
       "</div>"
      ],
      "text/plain": [
       "                pearson\n",
       "Valeur du test    -0.53\n",
       "P-Value            0.00"
      ]
     },
     "execution_count": 59,
     "metadata": {},
     "output_type": "execute_result"
    }
   ],
   "source": [
    "stat_freq = {'pearson' : sp.stats.pearsonr(frequence,frequence.index)}\n",
    "pd.DataFrame(stat_freq).round(2).rename(index={0:'Valeur du test',1:'P-Value'})"
   ]
  },
  {
   "cell_type": "code",
   "execution_count": 60,
   "metadata": {},
   "outputs": [],
   "source": [
    "a30 = frequence[(frequence.index > 30) & (frequence < 15000)]"
   ]
  },
  {
   "cell_type": "code",
   "execution_count": 61,
   "metadata": {},
   "outputs": [],
   "source": [
    "slopea30, intercepta30, r_valuea30, p_valuea30, std_erra30 = sp.stats.linregress(a30.index,a30)\n",
    "linea30 = slopea30*a30.index+intercepta30"
   ]
  },
  {
   "cell_type": "code",
   "execution_count": 62,
   "metadata": {},
   "outputs": [
    {
     "name": "stdout",
     "output_type": "stream",
     "text": [
      "le modèle linéaire est de la forme : y = ax + b\n",
      "et a = -204.90443748787052\n",
      "avec b = 17023.35308531553\n",
      "et un R² de  0.8407693764163361\n"
     ]
    },
    {
     "data": {
      "image/png": "[encoded data removed]",
      "text/plain": [
       "<Figure size 1080x360 with 1 Axes>"
      ]
     },
     "metadata": {
      "needs_background": "light"
     },
     "output_type": "display_data"
    }
   ],
   "source": [
    "plt.figure(1, figsize=(15, 5))\n",
    "plt.plot(a30.index, a30, color = 'blue', marker = '+', linestyle = 'none')\n",
    "plt.plot(a30.index, linea30, color = 'red')\n",
    "plt.title('Age et fréquence')\n",
    "plt.xlabel('Age')\n",
    "plt.ylabel(\"fréquence d'achat du produit\")\n",
    "print('le modèle linéaire est de la forme : y = ax + b')\n",
    "print('et a =',slopea30)\n",
    "print('avec b =', intercepta30)\n",
    "print('et un R² de ', r_valuea30**2)"
   ]
  },
  {
   "cell_type": "markdown",
   "metadata": {},
   "source": [
    "Value of R-2 is predicted 0.84 means 84% so this is very good linear regression model."
   ]
  },
  {
   "cell_type": "code",
   "execution_count": 63,
   "metadata": {},
   "outputs": [
    {
     "data": {
      "text/html": [
       "<div>\n",
       "<style scoped>\n",
       "    .dataframe tbody tr th:only-of-type {\n",
       "        vertical-align: middle;\n",
       "    }\n",
       "\n",
       "    .dataframe tbody tr th {\n",
       "        vertical-align: top;\n",
       "    }\n",
       "\n",
       "    .dataframe thead th {\n",
       "        text-align: right;\n",
       "    }\n",
       "</style>\n",
       "<table border=\"1\" class=\"dataframe\">\n",
       "  <thead>\n",
       "    <tr style=\"text-align: right;\">\n",
       "      <th></th>\n",
       "      <th>pearson</th>\n",
       "    </tr>\n",
       "  </thead>\n",
       "  <tbody>\n",
       "    <tr>\n",
       "      <td>Valeur du test</td>\n",
       "      <td>-0.92</td>\n",
       "    </tr>\n",
       "    <tr>\n",
       "      <td>P-Value</td>\n",
       "      <td>0.00</td>\n",
       "    </tr>\n",
       "  </tbody>\n",
       "</table>\n",
       "</div>"
      ],
      "text/plain": [
       "                pearson\n",
       "Valeur du test    -0.92\n",
       "P-Value            0.00"
      ]
     },
     "execution_count": 63,
     "metadata": {},
     "output_type": "execute_result"
    }
   ],
   "source": [
    "stat_a30 = {'pearson' : sp.stats.pearsonr(a30,a30.index)}\n",
    "pd.DataFrame(stat_a30).round(2).rename(index={0:'Valeur du test',1:'P-Value'})\n"
   ]
  },
  {
   "cell_type": "markdown",
   "metadata": {},
   "source": [
    "La valeur de R-2 est prédite 0,84, ce qui signifie 80 %, ce qui constitue un bon modèle de régression linéaire négative. \n",
    "\n",
    "La fréquence d'achat des clients plus âgés est moins élevée que celle des jeunes clients.\n",
    "\n",
    "Les clients âgés utilisent et achètent uniquement des choses spécifiques. "
   ]
  },
  {
   "cell_type": "markdown",
   "metadata": {},
   "source": [
    "# d. Corrélation entre age et panier moyen"
   ]
  },
  {
   "cell_type": "code",
   "execution_count": 64,
   "metadata": {},
   "outputs": [],
   "source": [
    "panier = ventes_1.groupby(['age','session_id']).id_prod.count()\n",
    "panier = pd.DataFrame(panier).swaplevel(0, 1, axis=0).reset_index()\n",
    "panier = panier.groupby('age').id_prod.mean().round(1)\n",
    "slope3, intercept3, r_value3, p_value3, std_err3 = sp.stats.linregress(panier.index,panier)\n",
    "line3 = slope3*panier.index+intercept3"
   ]
  },
  {
   "cell_type": "code",
   "execution_count": 65,
   "metadata": {},
   "outputs": [
    {
     "name": "stdout",
     "output_type": "stream",
     "text": [
      "le modèle linéaire est de la forme : y = ax + b\n",
      "et a = -0.010962406015037594\n",
      "avec b = 2.351398496240601\n",
      "et un R² de  0.3394423677957023\n"
     ]
    },
    {
     "data": {
      "image/png": "[encoded data removed]",
      "text/plain": [
       "<Figure size 1080x360 with 1 Axes>"
      ]
     },
     "metadata": {
      "needs_background": "light"
     },
     "output_type": "display_data"
    }
   ],
   "source": [
    "plt.figure(1, figsize=(15, 5))\n",
    "plt.plot(panier.index, panier, color = 'blue', marker = '+', linestyle = 'none')\n",
    "plt.plot(panier.index, line3, color = 'red')\n",
    "plt.title('Age et panier moyen')\n",
    "plt.xlabel('Age')\n",
    "plt.ylabel(\"taille du panier moyen\")\n",
    "print('le modèle linéaire est de la forme : y = ax + b')\n",
    "print('et a =',slope3)\n",
    "print('avec b =', intercept3)\n",
    "print('et un R² de ', r_value3**2)"
   ]
  },
  {
   "cell_type": "markdown",
   "metadata": {},
   "source": [
    "Value of R-2 is predicted 0.33 means 33% so this is not good linear regression model."
   ]
  },
  {
   "cell_type": "code",
   "execution_count": 66,
   "metadata": {},
   "outputs": [
    {
     "data": {
      "text/html": [
       "<div>\n",
       "<style scoped>\n",
       "    .dataframe tbody tr th:only-of-type {\n",
       "        vertical-align: middle;\n",
       "    }\n",
       "\n",
       "    .dataframe tbody tr th {\n",
       "        vertical-align: top;\n",
       "    }\n",
       "\n",
       "    .dataframe thead th {\n",
       "        text-align: right;\n",
       "    }\n",
       "</style>\n",
       "<table border=\"1\" class=\"dataframe\">\n",
       "  <thead>\n",
       "    <tr style=\"text-align: right;\">\n",
       "      <th></th>\n",
       "      <th>pearson</th>\n",
       "    </tr>\n",
       "  </thead>\n",
       "  <tbody>\n",
       "    <tr>\n",
       "      <td>Valeur du test</td>\n",
       "      <td>-0.58</td>\n",
       "    </tr>\n",
       "    <tr>\n",
       "      <td>P-Value</td>\n",
       "      <td>0.00</td>\n",
       "    </tr>\n",
       "  </tbody>\n",
       "</table>\n",
       "</div>"
      ],
      "text/plain": [
       "                pearson\n",
       "Valeur du test    -0.58\n",
       "P-Value            0.00"
      ]
     },
     "execution_count": 66,
     "metadata": {},
     "output_type": "execute_result"
    }
   ],
   "source": [
    "stat_panier = {'pearson' : sp.stats.pearsonr(panier,panier.index)}\n",
    "pd.DataFrame(stat_panier).round(2).rename(index={0:'Valeur du test',1:'P-Value'})"
   ]
  },
  {
   "attachments": {},
   "cell_type": "markdown",
   "metadata": {},
   "source": [
    "La valeur de R-2 est prédite 0,33, ce qui signifie 33 %, ce qui constitue un faible modèle de régression linéaire négative. \n",
    "Il y a pas une corrélation entre l'âge et le panier moyen. "
   ]
  },
  {
   "cell_type": "markdown",
   "metadata": {},
   "source": [
    "# e. Corrélation entre age et catégorie de produit"
   ]
  },
  {
   "cell_type": "code",
   "execution_count": 67,
   "metadata": {},
   "outputs": [],
   "source": [
    "#variable qualitative:\n",
    "def annova(x,y):\n",
    "    moyenne_y = y.mean()\n",
    "    classes = []\n",
    "    for classe in x.unique():\n",
    "        yi_classe = y[x==classe]\n",
    "        classes.append({'ni': len(yi_classe),\n",
    "                        'moyenne_classe': yi_classe.mean()})\n",
    "    SCT = sum([(yj-moyenne_y)**2 for yj in y])\n",
    "    SCE = sum([c['ni']*(c['moyenne_classe']-moyenne_y)**2 for c in classes])\n",
    "    return SCE/SCT"
   ]
  },
  {
   "cell_type": "code",
   "execution_count": 68,
   "metadata": {},
   "outputs": [
    {
     "data": {
      "image/png": "[encoded data removed]",
      "text/plain": [
       "<Figure size 1296x216 with 1 Axes>"
      ]
     },
     "metadata": {
      "needs_background": "light"
     },
     "output_type": "display_data"
    },
    {
     "name": "stdout",
     "output_type": "stream",
     "text": [
      "Rapport de corrélation: 11.899999999999999 %\n"
     ]
    }
   ],
   "source": [
    "boxplot(ventes_2, \"categ\", \"age\")\n",
    "plt.title(\"Âge des clients et catégories de produits achetés\", fontsize=25)\n",
    "plt.xlabel(\"Âge\", fontsize=20) \n",
    "plt.ylabel(\"Catégories\", fontsize=18)\n",
    "plt.yticks(fontsize=15) ; plt.show()\n",
    "\n",
    "print(\"Rapport de corrélation:\", 100*round(annova(ventes_2[\"categ\"], ventes_2[\"age\"]), 3), \"%\")"
   ]
  },
  {
   "attachments": {},
   "cell_type": "markdown",
   "metadata": {},
   "source": [
    "Rapport de corrélation: 11.89 %\n",
    "\n",
    "Avec un taux de corrélation d'environ 12%, nous pouvons observer qu'il existe une corrélation entre l'âge des clients et les catégories de produits achetés : \n",
    "\n",
    "on remarque que la boîte à moustaches de catégorie 2 se distingue des deux autres.  La catégorie 2 s'adresse généralement à une clientèle plus jeune, entre 18 et 25 ans, alors que les moyennes d'âge des catégories 0 et 1 semblent plus homogènes, et intéressent apparemment tous les types de clients, quel que soit leur âge!"
   ]
  },
  {
   "cell_type": "code",
   "execution_count": null,
   "metadata": {},
   "outputs": [],
   "source": []
  }
 ],
 "metadata": {
  "kernelspec": {
   "display_name": "Python 3",
   "language": "python",
   "name": "python3"
  },
  "language_info": {
   "codemirror_mode": {
    "name": "ipython",
    "version": 3
   },
   "file_extension": ".py",
   "mimetype": "text/x-python",
   "name": "python",
   "nbconvert_exporter": "python",
   "pygments_lexer": "ipython3",
   "version": "3.7.4"
  }
 },
 "nbformat": 4,
 "nbformat_minor": 2
}
